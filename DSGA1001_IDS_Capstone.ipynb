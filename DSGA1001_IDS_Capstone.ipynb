{
  "cells": [
    {
      "cell_type": "markdown",
      "metadata": {
        "id": "GxuafRGmgOf_"
      },
      "source": [
        "# Part I. Data Preprocess"
      ]
    },
    {
      "cell_type": "code",
      "execution_count": null,
      "metadata": {
        "id": "GmwQIMOWuUIF"
      },
      "outputs": [],
      "source": [
        "#import packages\n",
        "import numpy as np\n",
        "import pandas as pd\n",
        "from scipy import stats\n",
        "import matplotlib.pyplot as plt\n",
        "from sklearn.linear_model import LinearRegression, Lasso, Ridge, LassoCV, RidgeCV\n",
        "from sklearn.model_selection import train_test_split\n",
        "from sklearn.preprocessing import StandardScaler\n",
        "import seaborn as sns\n",
        "from sklearn.neighbors import KernelDensity, NearestNeighbors\n",
        "from sklearn.decomposition import PCA\n",
        "from sklearn.cluster import KMeans, DBSCAN\n",
        "from sklearn.pipeline import Pipeline\n",
        "from sklearn.metrics import silhouette_samples, silhouette_score\n",
        "from statsmodels.stats.power import TTestIndPower\n",
        "sns.set()\n",
        "%matplotlib inline"
      ]
    },
    {
      "cell_type": "code",
      "execution_count": null,
      "metadata": {
        "colab": {
          "base_uri": "https://localhost:8080/"
        },
        "id": "672GjwXMudEx",
        "outputId": "722a36e5-011c-4bd0-9591-55eb1e308765"
      },
      "outputs": [
        {
          "name": "stdout",
          "output_type": "stream",
          "text": [
            "Drive already mounted at /content/drive; to attempt to forcibly remount, call drive.mount(\"/content/drive\", force_remount=True).\n"
          ]
        }
      ],
      "source": [
        "#import csv file to colab\n",
        "#reference site: https://pythonviz.com/colab-jupyter/google-colab-notebook-file-io-csv-input-output/\n",
        "from google.colab import drive\n",
        "drive.mount('/content/drive')\n"
      ]
    },
    {
      "cell_type": "code",
      "execution_count": null,
      "metadata": {
        "id": "GjGXx5tSudqh"
      },
      "outputs": [],
      "source": [
        "df = pd.read_csv('/content/drive/MyDrive/Data/Medicalpremium.csv')"
      ]
    },
    {
      "cell_type": "code",
      "execution_count": null,
      "metadata": {
        "colab": {
          "base_uri": "https://localhost:8080/"
        },
        "id": "RipEunJ41oxx",
        "outputId": "02c24fc5-d8b4-4c71-97da-5fe4ae55978c"
      },
      "outputs": [
        {
          "name": "stdout",
          "output_type": "stream",
          "text": [
            "<class 'pandas.core.frame.DataFrame'>\n",
            "RangeIndex: 986 entries, 0 to 985\n",
            "Data columns (total 11 columns):\n",
            " #   Column                   Non-Null Count  Dtype\n",
            "---  ------                   --------------  -----\n",
            " 0   Age                      986 non-null    int64\n",
            " 1   Diabetes                 986 non-null    int64\n",
            " 2   BloodPressureProblems    986 non-null    int64\n",
            " 3   AnyTransplants           986 non-null    int64\n",
            " 4   AnyChronicDiseases       986 non-null    int64\n",
            " 5   Height                   986 non-null    int64\n",
            " 6   Weight                   986 non-null    int64\n",
            " 7   KnownAllergies           986 non-null    int64\n",
            " 8   HistoryOfCancerInFamily  986 non-null    int64\n",
            " 9   NumberOfMajorSurgeries   986 non-null    int64\n",
            " 10  PremiumPrice             986 non-null    int64\n",
            "dtypes: int64(11)\n",
            "memory usage: 84.9 KB\n"
          ]
        }
      ],
      "source": [
        "df.info()"
      ]
    },
    {
      "cell_type": "code",
      "execution_count": null,
      "metadata": {
        "colab": {
          "base_uri": "https://localhost:8080/",
          "height": 300
        },
        "id": "LC0m-C9h3deH",
        "outputId": "ca58d48b-3131-4e35-f528-3bbc041969f9"
      },
      "outputs": [
        {
          "data": {
            "text/html": [
              "\n",
              "  <div id=\"df-ce8e381f-bda1-46d1-9689-de4f9866c582\">\n",
              "    <div class=\"colab-df-container\">\n",
              "      <div>\n",
              "<style scoped>\n",
              "    .dataframe tbody tr th:only-of-type {\n",
              "        vertical-align: middle;\n",
              "    }\n",
              "\n",
              "    .dataframe tbody tr th {\n",
              "        vertical-align: top;\n",
              "    }\n",
              "\n",
              "    .dataframe thead th {\n",
              "        text-align: right;\n",
              "    }\n",
              "</style>\n",
              "<table border=\"1\" class=\"dataframe\">\n",
              "  <thead>\n",
              "    <tr style=\"text-align: right;\">\n",
              "      <th></th>\n",
              "      <th>Age</th>\n",
              "      <th>Diabetes</th>\n",
              "      <th>BloodPressureProblems</th>\n",
              "      <th>AnyTransplants</th>\n",
              "      <th>AnyChronicDiseases</th>\n",
              "      <th>Height</th>\n",
              "      <th>Weight</th>\n",
              "      <th>KnownAllergies</th>\n",
              "      <th>HistoryOfCancerInFamily</th>\n",
              "      <th>NumberOfMajorSurgeries</th>\n",
              "      <th>PremiumPrice</th>\n",
              "    </tr>\n",
              "  </thead>\n",
              "  <tbody>\n",
              "    <tr>\n",
              "      <th>count</th>\n",
              "      <td>986.000000</td>\n",
              "      <td>986.000000</td>\n",
              "      <td>986.000000</td>\n",
              "      <td>986.000000</td>\n",
              "      <td>986.000000</td>\n",
              "      <td>986.000000</td>\n",
              "      <td>986.000000</td>\n",
              "      <td>986.000000</td>\n",
              "      <td>986.000000</td>\n",
              "      <td>986.000000</td>\n",
              "      <td>986.000000</td>\n",
              "    </tr>\n",
              "    <tr>\n",
              "      <th>mean</th>\n",
              "      <td>41.745436</td>\n",
              "      <td>0.419878</td>\n",
              "      <td>0.468560</td>\n",
              "      <td>0.055781</td>\n",
              "      <td>0.180527</td>\n",
              "      <td>168.182556</td>\n",
              "      <td>76.950304</td>\n",
              "      <td>0.215010</td>\n",
              "      <td>0.117647</td>\n",
              "      <td>0.667343</td>\n",
              "      <td>24336.713996</td>\n",
              "    </tr>\n",
              "    <tr>\n",
              "      <th>std</th>\n",
              "      <td>13.963371</td>\n",
              "      <td>0.493789</td>\n",
              "      <td>0.499264</td>\n",
              "      <td>0.229615</td>\n",
              "      <td>0.384821</td>\n",
              "      <td>10.098155</td>\n",
              "      <td>14.265096</td>\n",
              "      <td>0.411038</td>\n",
              "      <td>0.322353</td>\n",
              "      <td>0.749205</td>\n",
              "      <td>6248.184382</td>\n",
              "    </tr>\n",
              "    <tr>\n",
              "      <th>min</th>\n",
              "      <td>18.000000</td>\n",
              "      <td>0.000000</td>\n",
              "      <td>0.000000</td>\n",
              "      <td>0.000000</td>\n",
              "      <td>0.000000</td>\n",
              "      <td>145.000000</td>\n",
              "      <td>51.000000</td>\n",
              "      <td>0.000000</td>\n",
              "      <td>0.000000</td>\n",
              "      <td>0.000000</td>\n",
              "      <td>15000.000000</td>\n",
              "    </tr>\n",
              "    <tr>\n",
              "      <th>25%</th>\n",
              "      <td>30.000000</td>\n",
              "      <td>0.000000</td>\n",
              "      <td>0.000000</td>\n",
              "      <td>0.000000</td>\n",
              "      <td>0.000000</td>\n",
              "      <td>161.000000</td>\n",
              "      <td>67.000000</td>\n",
              "      <td>0.000000</td>\n",
              "      <td>0.000000</td>\n",
              "      <td>0.000000</td>\n",
              "      <td>21000.000000</td>\n",
              "    </tr>\n",
              "    <tr>\n",
              "      <th>50%</th>\n",
              "      <td>42.000000</td>\n",
              "      <td>0.000000</td>\n",
              "      <td>0.000000</td>\n",
              "      <td>0.000000</td>\n",
              "      <td>0.000000</td>\n",
              "      <td>168.000000</td>\n",
              "      <td>75.000000</td>\n",
              "      <td>0.000000</td>\n",
              "      <td>0.000000</td>\n",
              "      <td>1.000000</td>\n",
              "      <td>23000.000000</td>\n",
              "    </tr>\n",
              "    <tr>\n",
              "      <th>75%</th>\n",
              "      <td>53.000000</td>\n",
              "      <td>1.000000</td>\n",
              "      <td>1.000000</td>\n",
              "      <td>0.000000</td>\n",
              "      <td>0.000000</td>\n",
              "      <td>176.000000</td>\n",
              "      <td>87.000000</td>\n",
              "      <td>0.000000</td>\n",
              "      <td>0.000000</td>\n",
              "      <td>1.000000</td>\n",
              "      <td>28000.000000</td>\n",
              "    </tr>\n",
              "    <tr>\n",
              "      <th>max</th>\n",
              "      <td>66.000000</td>\n",
              "      <td>1.000000</td>\n",
              "      <td>1.000000</td>\n",
              "      <td>1.000000</td>\n",
              "      <td>1.000000</td>\n",
              "      <td>188.000000</td>\n",
              "      <td>132.000000</td>\n",
              "      <td>1.000000</td>\n",
              "      <td>1.000000</td>\n",
              "      <td>3.000000</td>\n",
              "      <td>40000.000000</td>\n",
              "    </tr>\n",
              "  </tbody>\n",
              "</table>\n",
              "</div>\n",
              "      <button class=\"colab-df-convert\" onclick=\"convertToInteractive('df-ce8e381f-bda1-46d1-9689-de4f9866c582')\"\n",
              "              title=\"Convert this dataframe to an interactive table.\"\n",
              "              style=\"display:none;\">\n",
              "        \n",
              "  <svg xmlns=\"http://www.w3.org/2000/svg\" height=\"24px\"viewBox=\"0 0 24 24\"\n",
              "       width=\"24px\">\n",
              "    <path d=\"M0 0h24v24H0V0z\" fill=\"none\"/>\n",
              "    <path d=\"M18.56 5.44l.94 2.06.94-2.06 2.06-.94-2.06-.94-.94-2.06-.94 2.06-2.06.94zm-11 1L8.5 8.5l.94-2.06 2.06-.94-2.06-.94L8.5 2.5l-.94 2.06-2.06.94zm10 10l.94 2.06.94-2.06 2.06-.94-2.06-.94-.94-2.06-.94 2.06-2.06.94z\"/><path d=\"M17.41 7.96l-1.37-1.37c-.4-.4-.92-.59-1.43-.59-.52 0-1.04.2-1.43.59L10.3 9.45l-7.72 7.72c-.78.78-.78 2.05 0 2.83L4 21.41c.39.39.9.59 1.41.59.51 0 1.02-.2 1.41-.59l7.78-7.78 2.81-2.81c.8-.78.8-2.07 0-2.86zM5.41 20L4 18.59l7.72-7.72 1.47 1.35L5.41 20z\"/>\n",
              "  </svg>\n",
              "      </button>\n",
              "      \n",
              "  <style>\n",
              "    .colab-df-container {\n",
              "      display:flex;\n",
              "      flex-wrap:wrap;\n",
              "      gap: 12px;\n",
              "    }\n",
              "\n",
              "    .colab-df-convert {\n",
              "      background-color: #E8F0FE;\n",
              "      border: none;\n",
              "      border-radius: 50%;\n",
              "      cursor: pointer;\n",
              "      display: none;\n",
              "      fill: #1967D2;\n",
              "      height: 32px;\n",
              "      padding: 0 0 0 0;\n",
              "      width: 32px;\n",
              "    }\n",
              "\n",
              "    .colab-df-convert:hover {\n",
              "      background-color: #E2EBFA;\n",
              "      box-shadow: 0px 1px 2px rgba(60, 64, 67, 0.3), 0px 1px 3px 1px rgba(60, 64, 67, 0.15);\n",
              "      fill: #174EA6;\n",
              "    }\n",
              "\n",
              "    [theme=dark] .colab-df-convert {\n",
              "      background-color: #3B4455;\n",
              "      fill: #D2E3FC;\n",
              "    }\n",
              "\n",
              "    [theme=dark] .colab-df-convert:hover {\n",
              "      background-color: #434B5C;\n",
              "      box-shadow: 0px 1px 3px 1px rgba(0, 0, 0, 0.15);\n",
              "      filter: drop-shadow(0px 1px 2px rgba(0, 0, 0, 0.3));\n",
              "      fill: #FFFFFF;\n",
              "    }\n",
              "  </style>\n",
              "\n",
              "      <script>\n",
              "        const buttonEl =\n",
              "          document.querySelector('#df-ce8e381f-bda1-46d1-9689-de4f9866c582 button.colab-df-convert');\n",
              "        buttonEl.style.display =\n",
              "          google.colab.kernel.accessAllowed ? 'block' : 'none';\n",
              "\n",
              "        async function convertToInteractive(key) {\n",
              "          const element = document.querySelector('#df-ce8e381f-bda1-46d1-9689-de4f9866c582');\n",
              "          const dataTable =\n",
              "            await google.colab.kernel.invokeFunction('convertToInteractive',\n",
              "                                                     [key], {});\n",
              "          if (!dataTable) return;\n",
              "\n",
              "          const docLinkHtml = 'Like what you see? Visit the ' +\n",
              "            '<a target=\"_blank\" href=https://colab.research.google.com/notebooks/data_table.ipynb>data table notebook</a>'\n",
              "            + ' to learn more about interactive tables.';\n",
              "          element.innerHTML = '';\n",
              "          dataTable['output_type'] = 'display_data';\n",
              "          await google.colab.output.renderOutput(dataTable, element);\n",
              "          const docLink = document.createElement('div');\n",
              "          docLink.innerHTML = docLinkHtml;\n",
              "          element.appendChild(docLink);\n",
              "        }\n",
              "      </script>\n",
              "    </div>\n",
              "  </div>\n",
              "  "
            ],
            "text/plain": [
              "              Age    Diabetes  BloodPressureProblems  AnyTransplants  \\\n",
              "count  986.000000  986.000000             986.000000      986.000000   \n",
              "mean    41.745436    0.419878               0.468560        0.055781   \n",
              "std     13.963371    0.493789               0.499264        0.229615   \n",
              "min     18.000000    0.000000               0.000000        0.000000   \n",
              "25%     30.000000    0.000000               0.000000        0.000000   \n",
              "50%     42.000000    0.000000               0.000000        0.000000   \n",
              "75%     53.000000    1.000000               1.000000        0.000000   \n",
              "max     66.000000    1.000000               1.000000        1.000000   \n",
              "\n",
              "       AnyChronicDiseases      Height      Weight  KnownAllergies  \\\n",
              "count          986.000000  986.000000  986.000000      986.000000   \n",
              "mean             0.180527  168.182556   76.950304        0.215010   \n",
              "std              0.384821   10.098155   14.265096        0.411038   \n",
              "min              0.000000  145.000000   51.000000        0.000000   \n",
              "25%              0.000000  161.000000   67.000000        0.000000   \n",
              "50%              0.000000  168.000000   75.000000        0.000000   \n",
              "75%              0.000000  176.000000   87.000000        0.000000   \n",
              "max              1.000000  188.000000  132.000000        1.000000   \n",
              "\n",
              "       HistoryOfCancerInFamily  NumberOfMajorSurgeries  PremiumPrice  \n",
              "count               986.000000              986.000000    986.000000  \n",
              "mean                  0.117647                0.667343  24336.713996  \n",
              "std                   0.322353                0.749205   6248.184382  \n",
              "min                   0.000000                0.000000  15000.000000  \n",
              "25%                   0.000000                0.000000  21000.000000  \n",
              "50%                   0.000000                1.000000  23000.000000  \n",
              "75%                   0.000000                1.000000  28000.000000  \n",
              "max                   1.000000                3.000000  40000.000000  "
            ]
          },
          "execution_count": 20,
          "metadata": {},
          "output_type": "execute_result"
        }
      ],
      "source": [
        "df.describe()"
      ]
    },
    {
      "cell_type": "code",
      "execution_count": null,
      "metadata": {
        "colab": {
          "base_uri": "https://localhost:8080/"
        },
        "id": "v6qfyeEngX6q",
        "outputId": "050b64ef-39c5-420a-f343-ccfbca4a4e9e"
      },
      "outputs": [
        {
          "name": "stdout",
          "output_type": "stream",
          "text": [
            "Age\n",
            "0.3397486209869385 0.0\n",
            "\n",
            "Diabetes\n",
            "0.3397486209869385 0.0\n",
            "\n",
            "BloodPressureProblems\n",
            "0.3397486209869385 0.0\n",
            "\n",
            "AnyTransplants\n",
            "0.3397486209869385 0.0\n",
            "\n",
            "AnyChronicDiseases\n",
            "0.3397486209869385 0.0\n",
            "\n",
            "Height\n",
            "0.3397486209869385 0.0\n",
            "\n",
            "Weight\n",
            "0.3397486209869385 0.0\n",
            "\n",
            "KnownAllergies\n",
            "0.3397486209869385 0.0\n",
            "\n",
            "HistoryOfCancerInFamily\n",
            "0.3397486209869385 0.0\n",
            "\n",
            "NumberOfMajorSurgeries\n",
            "0.3397486209869385 0.0\n",
            "\n",
            "PremiumPrice\n",
            "0.3397486209869385 0.0\n",
            "\n"
          ]
        },
        {
          "name": "stderr",
          "output_type": "stream",
          "text": [
            "/usr/local/lib/python3.8/dist-packages/scipy/stats/morestats.py:1760: UserWarning: p-value may not be accurate for N > 5000.\n",
            "  warnings.warn(\"p-value may not be accurate for N > 5000.\")\n"
          ]
        }
      ],
      "source": [
        "#Test for Normality\n",
        "# Perform Shapiro-Wilk Test.\n",
        "from scipy.stats import shapiro \n",
        "for col in df:\n",
        "    print(col)\n",
        "    s,p = shapiro(df.loc[:col])\n",
        "    print(s,round(p,4))\n",
        "    print()\n",
        "    "
      ]
    },
    {
      "cell_type": "code",
      "execution_count": null,
      "metadata": {
        "colab": {
          "base_uri": "https://localhost:8080/",
          "height": 394
        },
        "id": "rVUcAndt5TkI",
        "outputId": "d130fd65-2830-42a5-d6cc-a0b3af588ce6"
      },
      "outputs": [
        {
          "data": {
            "text/html": [
              "\n",
              "  <div id=\"df-3372fc32-3b7c-4a1c-9d9e-c12a425dce4a\">\n",
              "    <div class=\"colab-df-container\">\n",
              "      <div>\n",
              "<style scoped>\n",
              "    .dataframe tbody tr th:only-of-type {\n",
              "        vertical-align: middle;\n",
              "    }\n",
              "\n",
              "    .dataframe tbody tr th {\n",
              "        vertical-align: top;\n",
              "    }\n",
              "\n",
              "    .dataframe thead th {\n",
              "        text-align: right;\n",
              "    }\n",
              "</style>\n",
              "<table border=\"1\" class=\"dataframe\">\n",
              "  <thead>\n",
              "    <tr style=\"text-align: right;\">\n",
              "      <th></th>\n",
              "      <th>Age</th>\n",
              "      <th>Diabetes</th>\n",
              "      <th>BloodPressureProblems</th>\n",
              "      <th>AnyTransplants</th>\n",
              "      <th>AnyChronicDiseases</th>\n",
              "      <th>Height</th>\n",
              "      <th>Weight</th>\n",
              "      <th>KnownAllergies</th>\n",
              "      <th>HistoryOfCancerInFamily</th>\n",
              "      <th>NumberOfMajorSurgeries</th>\n",
              "      <th>PremiumPrice</th>\n",
              "    </tr>\n",
              "  </thead>\n",
              "  <tbody>\n",
              "    <tr>\n",
              "      <th>Age</th>\n",
              "      <td>1.000000</td>\n",
              "      <td>0.210256</td>\n",
              "      <td>0.243568</td>\n",
              "      <td>-0.009745</td>\n",
              "      <td>0.051932</td>\n",
              "      <td>0.034130</td>\n",
              "      <td>-0.017407</td>\n",
              "      <td>-0.023232</td>\n",
              "      <td>-0.027035</td>\n",
              "      <td>0.382244</td>\n",
              "      <td>0.739088</td>\n",
              "    </tr>\n",
              "    <tr>\n",
              "      <th>Diabetes</th>\n",
              "      <td>0.210256</td>\n",
              "      <td>1.000000</td>\n",
              "      <td>0.127727</td>\n",
              "      <td>-0.036652</td>\n",
              "      <td>-0.089428</td>\n",
              "      <td>-0.000636</td>\n",
              "      <td>-0.017932</td>\n",
              "      <td>-0.080102</td>\n",
              "      <td>-0.055527</td>\n",
              "      <td>0.081205</td>\n",
              "      <td>0.086747</td>\n",
              "    </tr>\n",
              "    <tr>\n",
              "      <th>BloodPressureProblems</th>\n",
              "      <td>0.243568</td>\n",
              "      <td>0.127727</td>\n",
              "      <td>1.000000</td>\n",
              "      <td>-0.024538</td>\n",
              "      <td>0.045424</td>\n",
              "      <td>-0.041915</td>\n",
              "      <td>-0.059652</td>\n",
              "      <td>-0.011550</td>\n",
              "      <td>0.048239</td>\n",
              "      <td>0.267115</td>\n",
              "      <td>0.176418</td>\n",
              "    </tr>\n",
              "    <tr>\n",
              "      <th>AnyTransplants</th>\n",
              "      <td>-0.009745</td>\n",
              "      <td>-0.036652</td>\n",
              "      <td>-0.024538</td>\n",
              "      <td>1.000000</td>\n",
              "      <td>0.035285</td>\n",
              "      <td>-0.030327</td>\n",
              "      <td>0.002267</td>\n",
              "      <td>0.001876</td>\n",
              "      <td>-0.020171</td>\n",
              "      <td>-0.001065</td>\n",
              "      <td>0.217242</td>\n",
              "    </tr>\n",
              "    <tr>\n",
              "      <th>AnyChronicDiseases</th>\n",
              "      <td>0.051932</td>\n",
              "      <td>-0.089428</td>\n",
              "      <td>0.045424</td>\n",
              "      <td>0.035285</td>\n",
              "      <td>1.000000</td>\n",
              "      <td>0.052772</td>\n",
              "      <td>-0.028004</td>\n",
              "      <td>-0.027418</td>\n",
              "      <td>0.008666</td>\n",
              "      <td>0.022103</td>\n",
              "      <td>0.213103</td>\n",
              "    </tr>\n",
              "    <tr>\n",
              "      <th>Height</th>\n",
              "      <td>0.034130</td>\n",
              "      <td>-0.000636</td>\n",
              "      <td>-0.041915</td>\n",
              "      <td>-0.030327</td>\n",
              "      <td>0.052772</td>\n",
              "      <td>1.000000</td>\n",
              "      <td>0.074151</td>\n",
              "      <td>-0.013566</td>\n",
              "      <td>0.013885</td>\n",
              "      <td>0.032780</td>\n",
              "      <td>0.023128</td>\n",
              "    </tr>\n",
              "    <tr>\n",
              "      <th>Weight</th>\n",
              "      <td>-0.017407</td>\n",
              "      <td>-0.017932</td>\n",
              "      <td>-0.059652</td>\n",
              "      <td>0.002267</td>\n",
              "      <td>-0.028004</td>\n",
              "      <td>0.074151</td>\n",
              "      <td>1.000000</td>\n",
              "      <td>0.045903</td>\n",
              "      <td>-0.002849</td>\n",
              "      <td>-0.016895</td>\n",
              "      <td>0.129324</td>\n",
              "    </tr>\n",
              "    <tr>\n",
              "      <th>KnownAllergies</th>\n",
              "      <td>-0.023232</td>\n",
              "      <td>-0.080102</td>\n",
              "      <td>-0.011550</td>\n",
              "      <td>0.001876</td>\n",
              "      <td>-0.027418</td>\n",
              "      <td>-0.013566</td>\n",
              "      <td>0.045903</td>\n",
              "      <td>1.000000</td>\n",
              "      <td>0.115383</td>\n",
              "      <td>0.165178</td>\n",
              "      <td>0.018302</td>\n",
              "    </tr>\n",
              "    <tr>\n",
              "      <th>HistoryOfCancerInFamily</th>\n",
              "      <td>-0.027035</td>\n",
              "      <td>-0.055527</td>\n",
              "      <td>0.048239</td>\n",
              "      <td>-0.020171</td>\n",
              "      <td>0.008666</td>\n",
              "      <td>0.013885</td>\n",
              "      <td>-0.002849</td>\n",
              "      <td>0.115383</td>\n",
              "      <td>1.000000</td>\n",
              "      <td>0.277980</td>\n",
              "      <td>0.123982</td>\n",
              "    </tr>\n",
              "    <tr>\n",
              "      <th>NumberOfMajorSurgeries</th>\n",
              "      <td>0.382244</td>\n",
              "      <td>0.081205</td>\n",
              "      <td>0.267115</td>\n",
              "      <td>-0.001065</td>\n",
              "      <td>0.022103</td>\n",
              "      <td>0.032780</td>\n",
              "      <td>-0.016895</td>\n",
              "      <td>0.165178</td>\n",
              "      <td>0.277980</td>\n",
              "      <td>1.000000</td>\n",
              "      <td>0.289482</td>\n",
              "    </tr>\n",
              "    <tr>\n",
              "      <th>PremiumPrice</th>\n",
              "      <td>0.739088</td>\n",
              "      <td>0.086747</td>\n",
              "      <td>0.176418</td>\n",
              "      <td>0.217242</td>\n",
              "      <td>0.213103</td>\n",
              "      <td>0.023128</td>\n",
              "      <td>0.129324</td>\n",
              "      <td>0.018302</td>\n",
              "      <td>0.123982</td>\n",
              "      <td>0.289482</td>\n",
              "      <td>1.000000</td>\n",
              "    </tr>\n",
              "  </tbody>\n",
              "</table>\n",
              "</div>\n",
              "      <button class=\"colab-df-convert\" onclick=\"convertToInteractive('df-3372fc32-3b7c-4a1c-9d9e-c12a425dce4a')\"\n",
              "              title=\"Convert this dataframe to an interactive table.\"\n",
              "              style=\"display:none;\">\n",
              "        \n",
              "  <svg xmlns=\"http://www.w3.org/2000/svg\" height=\"24px\"viewBox=\"0 0 24 24\"\n",
              "       width=\"24px\">\n",
              "    <path d=\"M0 0h24v24H0V0z\" fill=\"none\"/>\n",
              "    <path d=\"M18.56 5.44l.94 2.06.94-2.06 2.06-.94-2.06-.94-.94-2.06-.94 2.06-2.06.94zm-11 1L8.5 8.5l.94-2.06 2.06-.94-2.06-.94L8.5 2.5l-.94 2.06-2.06.94zm10 10l.94 2.06.94-2.06 2.06-.94-2.06-.94-.94-2.06-.94 2.06-2.06.94z\"/><path d=\"M17.41 7.96l-1.37-1.37c-.4-.4-.92-.59-1.43-.59-.52 0-1.04.2-1.43.59L10.3 9.45l-7.72 7.72c-.78.78-.78 2.05 0 2.83L4 21.41c.39.39.9.59 1.41.59.51 0 1.02-.2 1.41-.59l7.78-7.78 2.81-2.81c.8-.78.8-2.07 0-2.86zM5.41 20L4 18.59l7.72-7.72 1.47 1.35L5.41 20z\"/>\n",
              "  </svg>\n",
              "      </button>\n",
              "      \n",
              "  <style>\n",
              "    .colab-df-container {\n",
              "      display:flex;\n",
              "      flex-wrap:wrap;\n",
              "      gap: 12px;\n",
              "    }\n",
              "\n",
              "    .colab-df-convert {\n",
              "      background-color: #E8F0FE;\n",
              "      border: none;\n",
              "      border-radius: 50%;\n",
              "      cursor: pointer;\n",
              "      display: none;\n",
              "      fill: #1967D2;\n",
              "      height: 32px;\n",
              "      padding: 0 0 0 0;\n",
              "      width: 32px;\n",
              "    }\n",
              "\n",
              "    .colab-df-convert:hover {\n",
              "      background-color: #E2EBFA;\n",
              "      box-shadow: 0px 1px 2px rgba(60, 64, 67, 0.3), 0px 1px 3px 1px rgba(60, 64, 67, 0.15);\n",
              "      fill: #174EA6;\n",
              "    }\n",
              "\n",
              "    [theme=dark] .colab-df-convert {\n",
              "      background-color: #3B4455;\n",
              "      fill: #D2E3FC;\n",
              "    }\n",
              "\n",
              "    [theme=dark] .colab-df-convert:hover {\n",
              "      background-color: #434B5C;\n",
              "      box-shadow: 0px 1px 3px 1px rgba(0, 0, 0, 0.15);\n",
              "      filter: drop-shadow(0px 1px 2px rgba(0, 0, 0, 0.3));\n",
              "      fill: #FFFFFF;\n",
              "    }\n",
              "  </style>\n",
              "\n",
              "      <script>\n",
              "        const buttonEl =\n",
              "          document.querySelector('#df-3372fc32-3b7c-4a1c-9d9e-c12a425dce4a button.colab-df-convert');\n",
              "        buttonEl.style.display =\n",
              "          google.colab.kernel.accessAllowed ? 'block' : 'none';\n",
              "\n",
              "        async function convertToInteractive(key) {\n",
              "          const element = document.querySelector('#df-3372fc32-3b7c-4a1c-9d9e-c12a425dce4a');\n",
              "          const dataTable =\n",
              "            await google.colab.kernel.invokeFunction('convertToInteractive',\n",
              "                                                     [key], {});\n",
              "          if (!dataTable) return;\n",
              "\n",
              "          const docLinkHtml = 'Like what you see? Visit the ' +\n",
              "            '<a target=\"_blank\" href=https://colab.research.google.com/notebooks/data_table.ipynb>data table notebook</a>'\n",
              "            + ' to learn more about interactive tables.';\n",
              "          element.innerHTML = '';\n",
              "          dataTable['output_type'] = 'display_data';\n",
              "          await google.colab.output.renderOutput(dataTable, element);\n",
              "          const docLink = document.createElement('div');\n",
              "          docLink.innerHTML = docLinkHtml;\n",
              "          element.appendChild(docLink);\n",
              "        }\n",
              "      </script>\n",
              "    </div>\n",
              "  </div>\n",
              "  "
            ],
            "text/plain": [
              "                              Age  Diabetes  BloodPressureProblems  \\\n",
              "Age                      1.000000  0.210256               0.243568   \n",
              "Diabetes                 0.210256  1.000000               0.127727   \n",
              "BloodPressureProblems    0.243568  0.127727               1.000000   \n",
              "AnyTransplants          -0.009745 -0.036652              -0.024538   \n",
              "AnyChronicDiseases       0.051932 -0.089428               0.045424   \n",
              "Height                   0.034130 -0.000636              -0.041915   \n",
              "Weight                  -0.017407 -0.017932              -0.059652   \n",
              "KnownAllergies          -0.023232 -0.080102              -0.011550   \n",
              "HistoryOfCancerInFamily -0.027035 -0.055527               0.048239   \n",
              "NumberOfMajorSurgeries   0.382244  0.081205               0.267115   \n",
              "PremiumPrice             0.739088  0.086747               0.176418   \n",
              "\n",
              "                         AnyTransplants  AnyChronicDiseases    Height  \\\n",
              "Age                           -0.009745            0.051932  0.034130   \n",
              "Diabetes                      -0.036652           -0.089428 -0.000636   \n",
              "BloodPressureProblems         -0.024538            0.045424 -0.041915   \n",
              "AnyTransplants                 1.000000            0.035285 -0.030327   \n",
              "AnyChronicDiseases             0.035285            1.000000  0.052772   \n",
              "Height                        -0.030327            0.052772  1.000000   \n",
              "Weight                         0.002267           -0.028004  0.074151   \n",
              "KnownAllergies                 0.001876           -0.027418 -0.013566   \n",
              "HistoryOfCancerInFamily       -0.020171            0.008666  0.013885   \n",
              "NumberOfMajorSurgeries        -0.001065            0.022103  0.032780   \n",
              "PremiumPrice                   0.217242            0.213103  0.023128   \n",
              "\n",
              "                           Weight  KnownAllergies  HistoryOfCancerInFamily  \\\n",
              "Age                     -0.017407       -0.023232                -0.027035   \n",
              "Diabetes                -0.017932       -0.080102                -0.055527   \n",
              "BloodPressureProblems   -0.059652       -0.011550                 0.048239   \n",
              "AnyTransplants           0.002267        0.001876                -0.020171   \n",
              "AnyChronicDiseases      -0.028004       -0.027418                 0.008666   \n",
              "Height                   0.074151       -0.013566                 0.013885   \n",
              "Weight                   1.000000        0.045903                -0.002849   \n",
              "KnownAllergies           0.045903        1.000000                 0.115383   \n",
              "HistoryOfCancerInFamily -0.002849        0.115383                 1.000000   \n",
              "NumberOfMajorSurgeries  -0.016895        0.165178                 0.277980   \n",
              "PremiumPrice             0.129324        0.018302                 0.123982   \n",
              "\n",
              "                         NumberOfMajorSurgeries  PremiumPrice  \n",
              "Age                                    0.382244      0.739088  \n",
              "Diabetes                               0.081205      0.086747  \n",
              "BloodPressureProblems                  0.267115      0.176418  \n",
              "AnyTransplants                        -0.001065      0.217242  \n",
              "AnyChronicDiseases                     0.022103      0.213103  \n",
              "Height                                 0.032780      0.023128  \n",
              "Weight                                -0.016895      0.129324  \n",
              "KnownAllergies                         0.165178      0.018302  \n",
              "HistoryOfCancerInFamily                0.277980      0.123982  \n",
              "NumberOfMajorSurgeries                 1.000000      0.289482  \n",
              "PremiumPrice                           0.289482      1.000000  "
            ]
          },
          "execution_count": 22,
          "metadata": {},
          "output_type": "execute_result"
        }
      ],
      "source": [
        "df.corr(method='spearman')\n",
        "#df.corr(method='pearson')"
      ]
    },
    {
      "cell_type": "code",
      "execution_count": null,
      "metadata": {
        "colab": {
          "base_uri": "https://localhost:8080/",
          "height": 419
        },
        "id": "V3liAeGB81lv",
        "outputId": "6722c599-ac72-4f3f-ce7b-f2e396383d89"
      },
      "outputs": [
        {
          "data": {
            "text/plain": [
              "<matplotlib.axes._subplots.AxesSubplot at 0x7f9dfea2f700>"
            ]
          },
          "execution_count": 23,
          "metadata": {},
          "output_type": "execute_result"
        },
        {
          "data": {
            "image/png": "[encoded data removed]",
            "text/plain": [
              "<Figure size 432x288 with 2 Axes>"
            ]
          },
          "metadata": {},
          "output_type": "display_data"
        }
      ],
      "source": [
        "import seaborn as sns\n",
        "sns.heatmap(df.corr(method='pearson'))"
      ]
    },
    {
      "cell_type": "code",
      "execution_count": null,
      "metadata": {
        "colab": {
          "base_uri": "https://localhost:8080/",
          "height": 419
        },
        "id": "KJpsK1-Yf6ZM",
        "outputId": "1ea8f8a7-52e1-4647-eda4-630a3d8f920f"
      },
      "outputs": [
        {
          "data": {
            "text/plain": [
              "<matplotlib.axes._subplots.AxesSubplot at 0x7f9dfe944f70>"
            ]
          },
          "execution_count": 24,
          "metadata": {},
          "output_type": "execute_result"
        },
        {
          "data": {
            "image/png": "[encoded data removed]",
            "text/plain": [
              "<Figure size 432x288 with 2 Axes>"
            ]
          },
          "metadata": {},
          "output_type": "display_data"
        }
      ],
      "source": [
        "sns.heatmap(df.corr(method='spearman'))"
      ]
    },
    {
      "cell_type": "code",
      "execution_count": null,
      "metadata": {
        "colab": {
          "base_uri": "https://localhost:8080/"
        },
        "id": "GcjaQUV1Q0sO",
        "outputId": "c04427a7-ef0d-43cb-d10e-96f4d672bd7c"
      },
      "outputs": [
        {
          "name": "stdout",
          "output_type": "stream",
          "text": [
            "\n",
            "Age\n",
            "                              r       p\n",
            "Age                      1.0000  0.0000\n",
            "Diabetes                 0.2103  0.0000\n",
            "BloodPressureProblems    0.2436  0.0000\n",
            "AnyTransplants          -0.0097  0.7599\n",
            "AnyChronicDiseases       0.0519  0.1032\n",
            "Height                   0.0341  0.2843\n",
            "Weight                  -0.0174  0.5851\n",
            "KnownAllergies          -0.0232  0.4662\n",
            "HistoryOfCancerInFamily -0.0270  0.3964\n",
            "NumberOfMajorSurgeries   0.3822  0.0000\n",
            "PremiumPrice             0.7391  0.0000\n",
            "\n",
            "Diabetes\n",
            "                              r       p\n",
            "Age                      0.2103  0.0000\n",
            "Diabetes                 1.0000  0.0000\n",
            "BloodPressureProblems    0.1277  0.0001\n",
            "AnyTransplants          -0.0367  0.2502\n",
            "AnyChronicDiseases      -0.0894  0.0050\n",
            "Height                  -0.0006  0.9841\n",
            "Weight                  -0.0179  0.5738\n",
            "KnownAllergies          -0.0801  0.0119\n",
            "HistoryOfCancerInFamily -0.0555  0.0814\n",
            "NumberOfMajorSurgeries   0.0812  0.0107\n",
            "PremiumPrice             0.0867  0.0064\n",
            "\n",
            "BloodPressureProblems\n",
            "                              r       p\n",
            "Age                      0.2436  0.0000\n",
            "Diabetes                 0.1277  0.0001\n",
            "BloodPressureProblems    1.0000  0.0000\n",
            "AnyTransplants          -0.0245  0.4415\n",
            "AnyChronicDiseases       0.0454  0.1541\n",
            "Height                  -0.0419  0.1885\n",
            "Weight                  -0.0597  0.0612\n",
            "KnownAllergies          -0.0115  0.7172\n",
            "HistoryOfCancerInFamily  0.0482  0.1301\n",
            "NumberOfMajorSurgeries   0.2671  0.0000\n",
            "PremiumPrice             0.1764  0.0000\n",
            "\n",
            "AnyTransplants\n",
            "                              r       p\n",
            "Age                     -0.0097  0.7599\n",
            "Diabetes                -0.0367  0.2502\n",
            "BloodPressureProblems   -0.0245  0.4415\n",
            "AnyTransplants           1.0000  0.0000\n",
            "AnyChronicDiseases       0.0353  0.2683\n",
            "Height                  -0.0303  0.3414\n",
            "Weight                   0.0023  0.9433\n",
            "KnownAllergies           0.0019  0.9531\n",
            "HistoryOfCancerInFamily -0.0202  0.5270\n",
            "NumberOfMajorSurgeries  -0.0011  0.9734\n",
            "PremiumPrice             0.2172  0.0000\n",
            "\n",
            "AnyChronicDiseases\n",
            "                              r       p\n",
            "Age                      0.0519  0.1032\n",
            "Diabetes                -0.0894  0.0050\n",
            "BloodPressureProblems    0.0454  0.1541\n",
            "AnyTransplants           0.0353  0.2683\n",
            "AnyChronicDiseases       1.0000  0.0000\n",
            "Height                   0.0528  0.0977\n",
            "Weight                  -0.0280  0.3797\n",
            "KnownAllergies          -0.0274  0.3898\n",
            "HistoryOfCancerInFamily  0.0087  0.7858\n",
            "NumberOfMajorSurgeries   0.0221  0.4882\n",
            "PremiumPrice             0.2131  0.0000\n",
            "\n",
            "Height\n",
            "                              r       p\n",
            "Age                      0.0341  0.2843\n",
            "Diabetes                -0.0006  0.9841\n",
            "BloodPressureProblems   -0.0419  0.1885\n",
            "AnyTransplants          -0.0303  0.3414\n",
            "AnyChronicDiseases       0.0528  0.0977\n",
            "Height                   1.0000  0.0000\n",
            "Weight                   0.0742  0.0199\n",
            "KnownAllergies          -0.0136  0.6705\n",
            "HistoryOfCancerInFamily  0.0139  0.6632\n",
            "NumberOfMajorSurgeries   0.0328  0.3038\n",
            "PremiumPrice             0.0231  0.4682\n",
            "\n",
            "Weight\n",
            "                              r       p\n",
            "Age                     -0.0174  0.5851\n",
            "Diabetes                -0.0179  0.5738\n",
            "BloodPressureProblems   -0.0597  0.0612\n",
            "AnyTransplants           0.0023  0.9433\n",
            "AnyChronicDiseases      -0.0280  0.3797\n",
            "Height                   0.0742  0.0199\n",
            "Weight                   1.0000  0.0000\n",
            "KnownAllergies           0.0459  0.1498\n",
            "HistoryOfCancerInFamily -0.0028  0.9288\n",
            "NumberOfMajorSurgeries  -0.0169  0.5962\n",
            "PremiumPrice             0.1293  0.0000\n",
            "\n",
            "KnownAllergies\n",
            "                              r       p\n",
            "Age                     -0.0232  0.4662\n",
            "Diabetes                -0.0801  0.0119\n",
            "BloodPressureProblems   -0.0115  0.7172\n",
            "AnyTransplants           0.0019  0.9531\n",
            "AnyChronicDiseases      -0.0274  0.3898\n",
            "Height                  -0.0136  0.6705\n",
            "Weight                   0.0459  0.1498\n",
            "KnownAllergies           1.0000  0.0000\n",
            "HistoryOfCancerInFamily  0.1154  0.0003\n",
            "NumberOfMajorSurgeries   0.1652  0.0000\n",
            "PremiumPrice             0.0183  0.5660\n",
            "\n",
            "HistoryOfCancerInFamily\n",
            "                              r       p\n",
            "Age                     -0.0270  0.3964\n",
            "Diabetes                -0.0555  0.0814\n",
            "BloodPressureProblems    0.0482  0.1301\n",
            "AnyTransplants          -0.0202  0.5270\n",
            "AnyChronicDiseases       0.0087  0.7858\n",
            "Height                   0.0139  0.6632\n",
            "Weight                  -0.0028  0.9288\n",
            "KnownAllergies           0.1154  0.0003\n",
            "HistoryOfCancerInFamily  1.0000  0.0000\n",
            "NumberOfMajorSurgeries   0.2780  0.0000\n",
            "PremiumPrice             0.1240  0.0001\n",
            "\n",
            "NumberOfMajorSurgeries\n",
            "                              r       p\n",
            "Age                      0.3822  0.0000\n",
            "Diabetes                 0.0812  0.0107\n",
            "BloodPressureProblems    0.2671  0.0000\n",
            "AnyTransplants          -0.0011  0.9734\n",
            "AnyChronicDiseases       0.0221  0.4882\n",
            "Height                   0.0328  0.3038\n",
            "Weight                  -0.0169  0.5962\n",
            "KnownAllergies           0.1652  0.0000\n",
            "HistoryOfCancerInFamily  0.2780  0.0000\n",
            "NumberOfMajorSurgeries   1.0000  0.0000\n",
            "PremiumPrice             0.2895  0.0000\n",
            "\n",
            "PremiumPrice\n",
            "                              r       p\n",
            "Age                      0.7391  0.0000\n",
            "Diabetes                 0.0867  0.0064\n",
            "BloodPressureProblems    0.1764  0.0000\n",
            "AnyTransplants           0.2172  0.0000\n",
            "AnyChronicDiseases       0.2131  0.0000\n",
            "Height                   0.0231  0.4682\n",
            "Weight                   0.1293  0.0000\n",
            "KnownAllergies           0.0183  0.5660\n",
            "HistoryOfCancerInFamily  0.1240  0.0001\n",
            "NumberOfMajorSurgeries   0.2895  0.0000\n",
            "PremiumPrice             1.0000  0.0000\n"
          ]
        }
      ],
      "source": [
        "# Compute Spearmann Correlation Coefficient (r) for each pair of variables\n",
        "# Compute Pearson Correlation Coefficient (r) for each pair of variables\n",
        "for col1 in df:\n",
        "    corr_df = pd.DataFrame(columns = ['r', 'p'])\n",
        "    for col2 in df:\n",
        "        r , p = stats.spearmanr(df[col1], df[col2])\n",
        "        #r , p = stats.pearsonr(df[col1], df[col2])\n",
        "        corr_df.loc[col2] = [round(r,4),round(p,4)]\n",
        "    print()\n",
        "    print(col1)\n",
        "    print(corr_df)"
      ]
    },
    {
      "cell_type": "code",
      "execution_count": null,
      "metadata": {
        "colab": {
          "base_uri": "https://localhost:8080/"
        },
        "id": "QT0CgWCI1RuG",
        "outputId": "cfeeae04-a844-49b6-aad1-74f33664b948"
      },
      "outputs": [
        {
          "name": "stdout",
          "output_type": "stream",
          "text": [
            "(788, 10) (788,)\n",
            "Optimal alpha: 0.006680251316736516\n",
            "coefficeints:\n",
            "{'Age': 0.7650833722481887, 'Diabetes': -0.023712860274270352, 'BloodPressureProblems': 0.008346485975225734, 'AnyTransplants': 0.2803690402453835, 'AnyChronicDiseases': 0.18159281423985024, 'Height': -0.0014442342221032683, 'Weight': 0.1454148859516062, 'KnownAllergies': 0.037158703823464596, 'HistoryOfCancerInFamily': 0.11890259111914168, 'NumberOfMajorSurgeries': -0.07881623482400323}\n",
            "R^2: 0.44745444883718166\n",
            "RMSE: 0.6855614605657397\n"
          ]
        }
      ],
      "source": [
        "from sklearn.metrics import mean_absolute_error,r2_score, mean_squared_error\n",
        "import random\n",
        "scale = StandardScaler()\n",
        "scaled = pd.DataFrame(scale.fit_transform(df))\n",
        "\n",
        "random = random.seed(15020304) #N-number: \n",
        "\n",
        "x_train, x_test, y_train, y_test = train_test_split(scaled.iloc[:,:-1], scaled.iloc[:,-1], train_size=0.8,random_state=random)\n",
        "print(x_train.shape, y_train.shape)\n",
        "\n",
        "# LassoCV\n",
        "lasso = LassoCV()\n",
        "lasso.fit(x_train, y_train)\n",
        "print(f'Optimal alpha: {lasso.alpha_}')\n",
        "\n",
        "coef = dict()\n",
        "for i in range(10):\n",
        "  coef[df.columns[i]] = lasso.coef_[i]\n",
        "print(f'coefficeints:\\n{coef}')\n",
        "\n",
        "y_pred = lasso.predict(x_test)\n",
        "print(f'R^2: {lasso.score(x_test, y_test)}')\n",
        "r2_lasso= lasso.score(x_test, y_test)\n",
        "rmse_lasso = np.sqrt(mean_absolute_error(y_test,y_pred))\n",
        "print(f'RMSE: {rmse_lasso}')"
      ]
    },
    {
      "cell_type": "markdown",
      "metadata": {
        "id": "JEAeg6pRZSPf"
      },
      "source": [
        "# Part II. Inference \n",
        "\n",
        "---\n",
        "\n",
        "The motivation is to identify whether the premium price varies depending on certain variables. For example, I want to find if the premium price differs for customers with diabetes and customers without diabetes. To do so, I split the distribution into people with diabetes and people without diabetes, and use Welche's t-test to calculate the p-value. Using the alpha level of .05, I assess whether to reject or fail to reject the null hypothesis, which assumes that there is no difference in the distribution of the two group.\n",
        "\n"
      ]
    },
    {
      "cell_type": "code",
      "execution_count": null,
      "metadata": {
        "id": "LWvnMEThJm1C"
      },
      "outputs": [],
      "source": [
        "def effect_size(df1, df2):\n",
        "    std = np.sqrt(((df1.count() - 1)*df1.std()**2 + (df2.count() - 1)*df2.std()**2 )/(df1.count() + df2.count()))\n",
        "    return (df1.mean() - df2.mean())/std"
      ]
    },
    {
      "cell_type": "code",
      "execution_count": null,
      "metadata": {
        "id": "PAsIlnIpJpPA"
      },
      "outputs": [],
      "source": [
        "alpha=.05\n",
        "power=.8"
      ]
    },
    {
      "cell_type": "code",
      "execution_count": null,
      "metadata": {
        "id": "qi4LsFapZbN4"
      },
      "outputs": [],
      "source": [
        "# Standardized premium price column\n",
        "df['PremiumPrice']=(df['PremiumPrice']-df['PremiumPrice'].mean())/df['PremiumPrice'].std()\n",
        "\n",
        "# Divide the distribution into two category. I divided into: \n",
        "# - people with diabetes or without diabetes,\n",
        "# - people with ages above 50 and ages under 50, \n",
        "# - people with and without chronic disease, \n",
        "# - people who had no surgery and people with surgeries more than or equal to 1. \n",
        "\n",
        "diabetes_1 = df[(df['Diabetes'] == 1)]['PremiumPrice']\n",
        "diabetes_0 = df[(df['Diabetes'] == 0)]['PremiumPrice']\n",
        "\n",
        "age_above50 = df[df['Age'] >= 50]['PremiumPrice']\n",
        "age_below50 = df[df['Age'] < 50]['PremiumPrice']\n",
        "\n",
        "chronicDisease_1 = df[df['AnyChronicDiseases'] == 1]['PremiumPrice']\n",
        "chronicDisease_0 = df[df['AnyChronicDiseases'] == 0]['PremiumPrice']\n",
        "\n",
        "had_surgeries = df[df['NumberOfMajorSurgeries'] > 0]['PremiumPrice']\n",
        "no_surgery = df[df['NumberOfMajorSurgeries'] == 0]['PremiumPrice']"
      ]
    },
    {
      "cell_type": "markdown",
      "metadata": {
        "id": "Aoq_v9pWf1Fq"
      },
      "source": [
        "Surgery distribution"
      ]
    },
    {
      "cell_type": "code",
      "execution_count": null,
      "metadata": {
        "colab": {
          "base_uri": "https://localhost:8080/"
        },
        "id": "hEyELyRfJ6_1",
        "outputId": "09f5c41f-d0ba-4188-ad60-2d2ac8130e98"
      },
      "outputs": [
        {
          "name": "stdout",
          "output_type": "stream",
          "text": [
            "Sample size/Number needed in each group: 83.542\n"
          ]
        },
        {
          "data": {
            "text/plain": [
              "(507, 479)"
            ]
          },
          "execution_count": 30,
          "metadata": {},
          "output_type": "execute_result"
        }
      ],
      "source": [
        "# Power Analysis\n",
        "effect_size_surgery = effect_size(had_surgeries, no_surgery)\n",
        "\n",
        "# Perform power analysis to find sample size for given effect\n",
        "obj = TTestIndPower()\n",
        "n = obj.solve_power(effect_size=effect_size_surgery, alpha=alpha, power=power, \n",
        "                    ratio=1, alternative='two-sided')\n",
        "  \n",
        "print('Sample size/Number needed in each group: {:.3f}'.format(n))\n",
        "\n",
        "had_surgeries.count(), no_surgery.count()"
      ]
    },
    {
      "cell_type": "code",
      "execution_count": null,
      "metadata": {
        "colab": {
          "base_uri": "https://localhost:8080/",
          "height": 427
        },
        "id": "jcvEZsB2blLm",
        "outputId": "b227e846-55c2-45e6-a394-d45e1d43c11a"
      },
      "outputs": [
        {
          "data": {
            "text/plain": [
              "<matplotlib.legend.Legend at 0x7f9dfe7f4a30>"
            ]
          },
          "execution_count": 31,
          "metadata": {},
          "output_type": "execute_result"
        },
        {
          "data": {
            "image/png": "[encoded data removed]",
            "text/plain": [
              "<Figure size 720x432 with 1 Axes>"
            ]
          },
          "metadata": {},
          "output_type": "display_data"
        }
      ],
      "source": [
        "plt.subplots(1, 1, figsize=(10,6))\n",
        "        \n",
        "plt.hist(had_surgeries.values, alpha=.65, label='had more than one surgery', density=True)\n",
        "plt.hist(no_surgery.values, alpha=.5, label='had no surgery', density=True)\n",
        "\n",
        "mean1 = had_surgeries.values.mean()\n",
        "mean0 = no_surgery.values.mean()\n",
        "\n",
        "plt.vlines(mean1, 0, 1, color='navy', ls='--', label='Mean premium price for surgery > 0')\n",
        "plt.vlines(mean0, 0, 1, color='red', ls='--', label='Mean premium price for no surgery')\n",
        "\n",
        "ci_no_surgery = stats.t.interval(1 - alpha, len(no_surgery) - 1, loc=np.mean(no_surgery), scale=stats.sem(no_surgery))\n",
        "ci_surgery = stats.t.interval(1 - alpha, len(had_surgeries) - 1, loc=np.mean(had_surgeries), scale=stats.sem(had_surgeries))\n",
        "\n",
        "plt.vlines(ci_no_surgery[0], 0, 1, color='yellow', ls='--', label='Confidence Interval 95%')\n",
        "plt.vlines(ci_no_surgery[1], 0, 1, color='yellow', ls='--')\n",
        "\n",
        "plt.vlines(ci_surgery[0], 0, 1, color='yellow', ls='--')\n",
        "plt.vlines(ci_surgery[1], 0, 1, color='yellow', ls='--')\n",
        "\n",
        "plt.xlabel('Premium price')\n",
        "plt.ylabel('Density')\n",
        "plt.title('Premium price distribution based on surgery history')\n",
        "plt.legend()"
      ]
    },
    {
      "cell_type": "code",
      "execution_count": null,
      "metadata": {
        "colab": {
          "base_uri": "https://localhost:8080/"
        },
        "id": "VJxNEE8-fH_r",
        "outputId": "e77d325e-07ac-4a16-f5fa-f93d709eb70b"
      },
      "outputs": [
        {
          "name": "stdout",
          "output_type": "stream",
          "text": [
            "The p-value from using Welche's t-test is:  1.6004191669602734e-11\n",
            "Since our p-value is under the alpha level, \n",
            "we deem the result to be statistically significantand thus we reject the null hypothesis. \n",
            "\n",
            "There is a difference in premium price based on surgery history.\n"
          ]
        }
      ],
      "source": [
        "statistics, pval = stats.ttest_ind(no_surgery, had_surgeries, equal_var=False)\n",
        "print(\"The p-value from using Welche's t-test is: \", pval)\n",
        "s = (\"Since our p-value is under the alpha level, \\n\" \n",
        "    \"we deem the result to be statistically significant\" \n",
        "    \"and thus we reject the null hypothesis. \\n\\n\"\n",
        "    \"There is a difference in premium price based on surgery history.\")\n",
        "print(s)"
      ]
    },
    {
      "cell_type": "markdown",
      "metadata": {
        "id": "hXhoV6bof8k7"
      },
      "source": [
        "Diabetes distribution"
      ]
    },
    {
      "cell_type": "code",
      "execution_count": null,
      "metadata": {
        "colab": {
          "base_uri": "https://localhost:8080/"
        },
        "id": "ElKMkUC6KBlq",
        "outputId": "00201b8d-ce36-42ba-9d5c-475a3a2cc8e6"
      },
      "outputs": [
        {
          "name": "stdout",
          "output_type": "stream",
          "text": [
            "Sample size/Number needed in each group: 655.499\n",
            "Sample size of each group: 414.000, 572.000\n"
          ]
        }
      ],
      "source": [
        "# Power Analysis\n",
        "effect_size_diabete = effect_size(diabetes_1, diabetes_0)\n",
        "\n",
        "# Perform power analysis to find sample size for given effect\n",
        "obj = TTestIndPower()\n",
        "n = obj.solve_power(effect_size=effect_size_diabete, alpha=alpha, power=power, \n",
        "                    ratio=1, alternative='two-sided')\n",
        "  \n",
        "print('Sample size/Number needed in each group: {:.3f}'.format(n))\n",
        "print('Sample size of each group: {:.3f}, {:.3f}'.format(diabetes_1.count(), diabetes_0.count()))"
      ]
    },
    {
      "cell_type": "code",
      "execution_count": null,
      "metadata": {
        "colab": {
          "base_uri": "https://localhost:8080/",
          "height": 427
        },
        "id": "4wC9YdM9fe9m",
        "outputId": "e8ae8167-fdf3-4d88-d483-cb2114aa70e5"
      },
      "outputs": [
        {
          "data": {
            "text/plain": [
              "<matplotlib.legend.Legend at 0x7f9dfe78f430>"
            ]
          },
          "execution_count": 34,
          "metadata": {},
          "output_type": "execute_result"
        },
        {
          "data": {
            "image/png": "[encoded data removed]",
            "text/plain": [
              "<Figure size 720x432 with 1 Axes>"
            ]
          },
          "metadata": {},
          "output_type": "display_data"
        }
      ],
      "source": [
        "# Plot\n",
        "plt.subplots(1, 1, figsize=(10,6))\n",
        "        \n",
        "plt.hist(diabetes_1.values, alpha=.65, label='diabetes', density=True)\n",
        "plt.hist(diabetes_0.values, alpha=.5, label='non-diabetes', density=True)\n",
        "\n",
        "mean1 = diabetes_1.values.mean()\n",
        "mean0 = diabetes_0.values.mean()\n",
        "\n",
        "plt.vlines(mean1, 0, 1, color='navy', ls='--', label='Mean premium price for diabetes')\n",
        "plt.vlines(mean0, 0, 1, color='red', ls='--', label='Mean premium price for non-diabetes')\n",
        "\n",
        "ci_diabetes = stats.t.interval(1 - alpha, len(diabetes_1) - 1, loc=np.mean(diabetes_1), scale=stats.sem(diabetes_1))\n",
        "ci_no_diabetes = stats.t.interval(1 - alpha, len(diabetes_0) - 1, loc=np.mean(diabetes_0), scale=stats.sem(diabetes_0))\n",
        "\n",
        "plt.vlines(ci_diabetes[0], 0, 1, color='yellow', ls='--', label='Confidence Interval 95%')\n",
        "plt.vlines(ci_diabetes[1], 0, 1, color='yellow', ls='--')\n",
        "\n",
        "plt.vlines(ci_no_diabetes[0], 0, 1, color='yellow', ls='--')\n",
        "plt.vlines(ci_no_diabetes[1], 0, 1, color='yellow', ls='--')\n",
        "\n",
        "plt.xlabel('Premium price')\n",
        "plt.ylabel('Density')\n",
        "plt.title('Premium price distribution based on diabete status')\n",
        "plt.legend()"
      ]
    },
    {
      "cell_type": "code",
      "execution_count": null,
      "metadata": {
        "colab": {
          "base_uri": "https://localhost:8080/"
        },
        "id": "AaWbWpTpfioi",
        "outputId": "5b301719-98e1-4838-9e38-0ef3c7ad1f69"
      },
      "outputs": [
        {
          "data": {
            "text/plain": [
              "0.014508142994631957"
            ]
          },
          "execution_count": 35,
          "metadata": {},
          "output_type": "execute_result"
        }
      ],
      "source": [
        "statistics, pval = stats.ttest_ind(diabetes_1, diabetes_0, equal_var=False)\n",
        "pval"
      ]
    },
    {
      "cell_type": "markdown",
      "metadata": {
        "id": "dvi0a1aqf_ZK"
      },
      "source": [
        "Age distribution"
      ]
    },
    {
      "cell_type": "code",
      "execution_count": null,
      "metadata": {
        "colab": {
          "base_uri": "https://localhost:8080/"
        },
        "id": "nEuJlvelKIMn",
        "outputId": "4a6edbc5-fb20-455f-d5d9-f4d6249d193c"
      },
      "outputs": [
        {
          "name": "stdout",
          "output_type": "stream",
          "text": [
            "Sample size/Number needed in each group: 12.365\n",
            "Sample size of each group: 316.000, 670.000\n"
          ]
        }
      ],
      "source": [
        "# Power Analysis\n",
        "effect_size_age = effect_size(age_above50, age_below50)\n",
        "\n",
        "# Perform power analysis to find sample size for given effect\n",
        "obj = TTestIndPower()\n",
        "n = obj.solve_power(effect_size=effect_size_age, alpha=alpha, power=power, \n",
        "                    ratio=1, alternative='two-sided')\n",
        "  \n",
        "print('Sample size/Number needed in each group: {:.3f}'.format(n))\n",
        "print('Sample size of each group: {:.3f}, {:.3f}'.format(age_above50.count(), age_below50.count()))"
      ]
    },
    {
      "cell_type": "code",
      "execution_count": null,
      "metadata": {
        "colab": {
          "base_uri": "https://localhost:8080/",
          "height": 427
        },
        "id": "8iuahbUZflXc",
        "outputId": "c4923c53-988c-4c2e-995d-3ee5e6a6f64c"
      },
      "outputs": [
        {
          "data": {
            "text/plain": [
              "<matplotlib.legend.Legend at 0x7f9dfe6f5b80>"
            ]
          },
          "execution_count": 37,
          "metadata": {},
          "output_type": "execute_result"
        },
        {
          "data": {
            "image/png": "[encoded data removed]",
            "text/plain": [
              "<Figure size 720x432 with 1 Axes>"
            ]
          },
          "metadata": {},
          "output_type": "display_data"
        }
      ],
      "source": [
        "plt.subplots(1, 1, figsize=(10,6))\n",
        "        \n",
        "plt.hist(age_above50.values, alpha=.65, label='age above 50', density=True)\n",
        "plt.hist(age_below50.values, alpha=.5, label='age below 50', density=True)\n",
        "\n",
        "mean1 = age_above50.values.mean()\n",
        "mean0 = age_below50.values.mean()\n",
        "\n",
        "plt.vlines(mean1, 0, 1, color='navy', ls='--', label='Mean premium price for age above 50')\n",
        "plt.vlines(mean0, 0, 1, color='red', ls='--', label='Mean premium price for age below 50')\n",
        "\n",
        "ci_age_above50 = stats.t.interval(1 - alpha, len(age_above50) - 1, loc=np.mean(age_above50), scale=stats.sem(age_above50))\n",
        "ci_age_below50 = stats.t.interval(1 - alpha, len(age_below50) - 1, loc=np.mean(age_below50), scale=stats.sem(age_below50))\n",
        "\n",
        "plt.vlines(ci_age_above50[0], 0, 1, color='yellow', ls='--', label='Confidence Interval 95%')\n",
        "plt.vlines(ci_age_above50[1], 0, 1, color='yellow', ls='--')\n",
        "\n",
        "plt.vlines(ci_age_below50[0], 0, 1, color='yellow', ls='--')\n",
        "plt.vlines(ci_age_below50[1], 0, 1, color='yellow', ls='--')\n",
        "\n",
        "plt.xlabel('Premium price')\n",
        "plt.ylabel('Density')\n",
        "plt.title('Premium price distribution based on age')\n",
        "plt.legend()"
      ]
    },
    {
      "cell_type": "code",
      "execution_count": null,
      "metadata": {
        "colab": {
          "base_uri": "https://localhost:8080/"
        },
        "id": "ZrOo79hTfnqi",
        "outputId": "b8b1a408-cca1-4536-9a79-42331c7b2b3e"
      },
      "outputs": [
        {
          "data": {
            "text/plain": [
              "5.584386824151368e-82"
            ]
          },
          "execution_count": 38,
          "metadata": {},
          "output_type": "execute_result"
        }
      ],
      "source": [
        "statistics, pval = stats.ttest_ind(age_above50, age_below50, equal_var=False)\n",
        "pval"
      ]
    },
    {
      "cell_type": "markdown",
      "metadata": {
        "id": "5V9k93fwgB2d"
      },
      "source": [
        "Chronic disease distribution"
      ]
    },
    {
      "cell_type": "code",
      "execution_count": null,
      "metadata": {
        "colab": {
          "base_uri": "https://localhost:8080/"
        },
        "id": "gjxzwJt-KK_a",
        "outputId": "5e9294f0-b1c5-43c2-ea2d-99068384264b"
      },
      "outputs": [
        {
          "name": "stdout",
          "output_type": "stream",
          "text": [
            "Sample size/Number needed in each group: 52.019\n",
            "Sample size of each group: 178.000, 808.000\n"
          ]
        }
      ],
      "source": [
        "# Power Analysis\n",
        "effect_size_chronic = effect_size(chronicDisease_1, chronicDisease_0)\n",
        "\n",
        "# Perform power analysis to find sample size for given effect\n",
        "obj = TTestIndPower()\n",
        "n = obj.solve_power(effect_size=effect_size_chronic, alpha=alpha, power=power, \n",
        "                    ratio=1, alternative='two-sided')\n",
        "  \n",
        "print('Sample size/Number needed in each group: {:.3f}'.format(n))\n",
        "print('Sample size of each group: {:.3f}, {:.3f}'.format(chronicDisease_1.count(), chronicDisease_0.count()))"
      ]
    },
    {
      "cell_type": "code",
      "execution_count": null,
      "metadata": {
        "colab": {
          "base_uri": "https://localhost:8080/",
          "height": 427
        },
        "id": "AWaVomKzfp0O",
        "outputId": "1481c1e7-8d5b-45bb-d134-b289042ce512"
      },
      "outputs": [
        {
          "data": {
            "text/plain": [
              "<matplotlib.legend.Legend at 0x7f9dfe6f7c10>"
            ]
          },
          "execution_count": 40,
          "metadata": {},
          "output_type": "execute_result"
        },
        {
          "data": {
            "image/png": "[encoded data removed]",
            "text/plain": [
              "<Figure size 720x432 with 1 Axes>"
            ]
          },
          "metadata": {},
          "output_type": "display_data"
        }
      ],
      "source": [
        "plt.subplots(1, 1, figsize=(10,6))\n",
        "        \n",
        "plt.hist(chronicDisease_1.values, alpha=.65, label='has chronic disease', density=True)\n",
        "plt.hist(chronicDisease_0.values, alpha=.5, label='does not have chronic disease', density=True)\n",
        "\n",
        "mean1 = chronicDisease_1.values.mean()\n",
        "mean0 = chronicDisease_0.values.mean()\n",
        "\n",
        "plt.vlines(mean1, 0, 1, color='navy', ls='--', label='Mean premium price for people with chronic disease')\n",
        "plt.vlines(mean0, 0, 1, color='red', ls='--', label='Mean premium price for people without chronic disease')\n",
        "\n",
        "ci_chronicDisease_1 = stats.t.interval(1 - alpha, len(chronicDisease_1) - 1, loc=np.mean(chronicDisease_1), scale=stats.sem(chronicDisease_1))\n",
        "ci_chronicDisease_0 = stats.t.interval(1 - alpha, len(chronicDisease_0) - 1, loc=np.mean(chronicDisease_0), scale=stats.sem(chronicDisease_0))\n",
        "\n",
        "plt.vlines(ci_chronicDisease_1[0], 0, 1, color='yellow', ls='--', label='Confidence Interval 95%')\n",
        "plt.vlines(ci_chronicDisease_1[1], 0, 1, color='yellow', ls='--')\n",
        "\n",
        "plt.vlines(ci_chronicDisease_0[0], 0, 1, color='yellow', ls='--')\n",
        "plt.vlines(ci_chronicDisease_0[1], 0, 1, color='yellow', ls='--')\n",
        "\n",
        "plt.xlabel('Premium price')\n",
        "plt.ylabel('Density')\n",
        "plt.title('Premium price distribution based on presence of chronic disease')\n",
        "plt.legend()"
      ]
    },
    {
      "cell_type": "code",
      "execution_count": null,
      "metadata": {
        "colab": {
          "base_uri": "https://localhost:8080/"
        },
        "id": "xWemRgZrfsXJ",
        "outputId": "c014ff4d-c14f-40a1-ece7-c259043bf1d7"
      },
      "outputs": [
        {
          "data": {
            "text/plain": [
              "1.7279736467738168e-13"
            ]
          },
          "execution_count": 41,
          "metadata": {},
          "output_type": "execute_result"
        }
      ],
      "source": [
        "statistics, pval = stats.ttest_ind(chronicDisease_1, chronicDisease_0, equal_var=False)\n",
        "pval"
      ]
    },
    {
      "cell_type": "markdown",
      "metadata": {
        "id": "gRkiHhPm8aSI"
      },
      "source": [
        "# Part III. Prediction"
      ]
    },
    {
      "cell_type": "code",
      "execution_count": null,
      "metadata": {
        "id": "_vemCsj38kSv"
      },
      "outputs": [],
      "source": [
        "#Reference: https://machinelearninghd.com/ridgecv-regression-python/\n",
        "#Import Libraries\n",
        "import numpy as np\n",
        "import pandas as pd\n",
        "from sklearn.linear_model import Ridge, ElasticNet, LinearRegression\n",
        "from sklearn.model_selection import GridSearchCV\n",
        "from sklearn.preprocessing import StandardScaler\n",
        "from sklearn.model_selection import train_test_split"
      ]
    },
    {
      "cell_type": "markdown",
      "metadata": {
        "id": "WG38dAPN_cHs"
      },
      "source": [
        "Checking the data, if there is multicollinearity."
      ]
    },
    {
      "cell_type": "code",
      "execution_count": null,
      "metadata": {
        "colab": {
          "base_uri": "https://localhost:8080/",
          "height": 582
        },
        "id": "S3KlN9ET8kXX",
        "outputId": "9475b0c1-c791-4dc0-adba-e6ae087f2eea"
      },
      "outputs": [
        {
          "data": {
            "text/plain": [
              "<matplotlib.axes._subplots.AxesSubplot at 0x7f9dfe68d790>"
            ]
          },
          "execution_count": 43,
          "metadata": {},
          "output_type": "execute_result"
        },
        {
          "data": {
            "image/png": "[encoded data removed]",
            "text/plain": [
              "<Figure size 1080x504 with 2 Axes>"
            ]
          },
          "metadata": {},
          "output_type": "display_data"
        }
      ],
      "source": [
        "#Checking the data, if there is multicollinearity.\n",
        "plt.figure(figsize=(15,7))\n",
        "sns.heatmap(df.corr(),annot=True,cmap='viridis')"
      ]
    },
    {
      "cell_type": "code",
      "execution_count": null,
      "metadata": {
        "colab": {
          "base_uri": "https://localhost:8080/",
          "height": 244
        },
        "id": "L5-jqDYnLGVS",
        "outputId": "365dc1b8-4fed-49e1-f45f-3c57f4e66b90"
      },
      "outputs": [
        {
          "output_type": "error",
          "ename": "NameError",
          "evalue": "ignored",
          "traceback": [
            "\u001b[0;31m---------------------------------------------------------------------------\u001b[0m",
            "\u001b[0;31mNameError\u001b[0m                                 Traceback (most recent call last)",
            "\u001b[0;32m<ipython-input-1-351afc13475c>\u001b[0m in \u001b[0;36m<module>\u001b[0;34m\u001b[0m\n\u001b[1;32m      3\u001b[0m \u001b[0;32mimport\u001b[0m \u001b[0mrandom\u001b[0m\u001b[0;34m\u001b[0m\u001b[0;34m\u001b[0m\u001b[0m\n\u001b[1;32m      4\u001b[0m \u001b[0mscale\u001b[0m \u001b[0;34m=\u001b[0m \u001b[0mStandardScaler\u001b[0m\u001b[0;34m(\u001b[0m\u001b[0;34m)\u001b[0m\u001b[0;34m\u001b[0m\u001b[0;34m\u001b[0m\u001b[0m\n\u001b[0;32m----> 5\u001b[0;31m \u001b[0mscaled\u001b[0m \u001b[0;34m=\u001b[0m \u001b[0mpd\u001b[0m\u001b[0;34m.\u001b[0m\u001b[0mDataFrame\u001b[0m\u001b[0;34m(\u001b[0m\u001b[0mscale\u001b[0m\u001b[0;34m.\u001b[0m\u001b[0mfit_transform\u001b[0m\u001b[0;34m(\u001b[0m\u001b[0mdf\u001b[0m\u001b[0;34m)\u001b[0m\u001b[0;34m)\u001b[0m\u001b[0;34m\u001b[0m\u001b[0;34m\u001b[0m\u001b[0m\n\u001b[0m\u001b[1;32m      6\u001b[0m \u001b[0;34m\u001b[0m\u001b[0m\n\u001b[1;32m      7\u001b[0m \u001b[0mrandom\u001b[0m \u001b[0;34m=\u001b[0m \u001b[0mrandom\u001b[0m\u001b[0;34m.\u001b[0m\u001b[0mseed\u001b[0m\u001b[0;34m(\u001b[0m\u001b[0;36m15020304\u001b[0m\u001b[0;34m)\u001b[0m \u001b[0;31m#N-number:\u001b[0m\u001b[0;34m\u001b[0m\u001b[0;34m\u001b[0m\u001b[0m\n",
            "\u001b[0;31mNameError\u001b[0m: name 'pd' is not defined"
          ]
        }
      ],
      "source": [
        "from sklearn.metrics import mean_absolute_error,r2_score, mean_squared_error\n",
        "import random\n",
        "scale = StandardScaler()\n",
        "scaled = pd.DataFrame(scale.fit_transform(df))\n",
        "\n",
        "random = random.seed(15020304) #N-number: \n",
        "\n",
        "# x_feature = pd.concat([scaled.iloc[:,0:5],scaled.iloc[:,6:-1]],axis=1) #eliminate height\n",
        "x_train, x_test, y_train, y_test = train_test_split(scaled.iloc[:,:-1], scaled.iloc[:,-1], train_size=0.8,random_state=random) #all features\n",
        "# x_train, x_test, y_train, y_test = train_test_split(x_feature, scaled.iloc[:,-1], train_size=0.8,random_state=random)\n",
        "print(x_train.shape, y_train.shape)\n",
        "\n",
        "# LassoCV\n",
        "lasso = LassoCV()\n",
        "lasso.fit(x_train, y_train)\n",
        "print(f'Optimal alpha: {lasso.alpha_}')\n",
        "\n",
        "coef = dict()\n",
        "for i in range(10):\n",
        "  coef[df.columns[i]] = lasso.coef_[i]\n",
        "print(f'coefficeints:\\n{coef}')\n",
        "\n",
        "y_pred = lasso.predict(x_test)\n",
        "\n",
        "print(f'R^2: {lasso.score(x_test, y_test)}')\n",
        "r2_lasso= lasso.score(x_test, y_test)\n",
        "rmse_lasso = np.sqrt(mean_absolute_error(y_test,y_pred))\n",
        "print(f'RMSE: {rmse_lasso}')\n",
        "\n",
        "# print(f'R^2: {lasso.score(x_test, y_test)}')\n",
        "# r2_lasso_2= lasso.score(x_test, y_test)\n",
        "# rmse_lasso_2 = np.sqrt(mean_absolute_error(y_test,y_pred))\n",
        "# print(f'RMSE: {rmse_lasso}')\n"
      ]
    },
    {
      "cell_type": "code",
      "execution_count": null,
      "metadata": {
        "id": "IAeCju7r9HW7"
      },
      "outputs": [],
      "source": [
        "# define evaluation\n",
        "from sklearn.model_selection import RepeatedKFold\n",
        "cv = RepeatedKFold(n_splits=10, n_repeats=3, random_state=1)"
      ]
    },
    {
      "cell_type": "code",
      "execution_count": null,
      "metadata": {
        "colab": {
          "base_uri": "https://localhost:8080/"
        },
        "id": "0erGgZmU9Hc5",
        "outputId": "598e7523-8c15-4394-b4ff-a59f67d1e4b7"
      },
      "outputs": [
        {
          "name": "stdout",
          "output_type": "stream",
          "text": [
            "R^2:0.656315814552458\n",
            "coefficeints:\n",
            "[ 0.7212701  -0.03870345 -0.00753982  0.27379273  0.16992837 -0.01338331\n",
            "  0.14321575  0.01019987  0.12229436 -0.06555523]\n",
            "RMSE:0.6819480615196064\n"
          ]
        }
      ],
      "source": [
        "from sklearn.metrics import mean_absolute_error,r2_score, mean_squared_error\n",
        "\n",
        "#Define Ridge Regression Model\n",
        "# define model\n",
        "model = Ridge()\n",
        "model.fit(x_train,y_train)\n",
        "\n",
        "#Predicting the Model\n",
        "y_pred = model.predict(x_test)\n",
        "\n",
        "#Evaluating the model\n",
        "coef_ridge = model.coef_\n",
        "r2_ridge = r2_score(y_test,y_pred)\n",
        "rmse_ridge = np.sqrt(mean_absolute_error(y_test,y_pred))\n",
        "print(f'R^2:{r2_score(y_test,y_pred)}')\n",
        "print(f'coefficeints:\\n{coef_ridge}')\n",
        "print(f'RMSE:{rmse_ridge}')\n",
        "\n"
      ]
    },
    {
      "cell_type": "code",
      "execution_count": null,
      "metadata": {
        "id": "fyq9Uu2Z9TfL"
      },
      "outputs": [],
      "source": [
        "#Find the best parameters through GridsearchCV\n",
        "#define parameters\n",
        "param = {\n",
        "    # 'alpha': [0.0001, 0.001, 0.01, 0.1, 1, 10, 100],\n",
        "    'alpha':np.arange(0.00001, 20, 0.1),\n",
        "    'fit_intercept':[True,False],\n",
        "    # 'normalize':[True,False],\n",
        "'solver':['auto', 'svd', 'cholesky', 'lsqr', 'sparse_cg', 'sag', 'saga']\n",
        "       }"
      ]
    },
    {
      "cell_type": "code",
      "execution_count": null,
      "metadata": {
        "colab": {
          "background_save": true
        },
        "id": "LV-phV4z9TiU",
        "outputId": "d63779a1-0dc0-4325-a2dd-c5c2620c7d76"
      },
      "outputs": [
        {
          "name": "stdout",
          "output_type": "stream",
          "text": [
            "Best Score: 0.6146982615857066\n",
            "Best Hyperparameters: {'alpha': 5.80001, 'fit_intercept': False, 'solver': 'saga'}\n"
          ]
        }
      ],
      "source": [
        "#define model\n",
        "model = Ridge()\n",
        "\n",
        "# define search\n",
        "search = GridSearchCV(model, param, scoring='r2', n_jobs=-1, cv=cv)\n",
        "# execute search\n",
        "result = search.fit(x_train, y_train)\n",
        "# summarize result\n",
        "print('Best Score: %s' % result.best_score_)\n",
        "print('Best Hyperparameters: %s' % result.best_params_)"
      ]
    },
    {
      "cell_type": "code",
      "execution_count": null,
      "metadata": {
        "colab": {
          "background_save": true
        },
        "id": "ZnLNdKF_9TlL",
        "outputId": "09f7d82b-68d9-4748-a9bc-a962bfbb8f32"
      },
      "outputs": [
        {
          "name": "stdout",
          "output_type": "stream",
          "text": [
            "R^2:0.6564426459002899\n",
            "coefficeints:\n",
            "[ 0.71503724 -0.03792233 -0.00683376  0.27181878  0.16911837 -0.01333198\n",
            "  0.14255641  0.01024928  0.12081478 -0.06265153]\n",
            "RMSE:0.6835475685128266\n"
          ]
        }
      ],
      "source": [
        "model = Ridge(alpha=result.best_params_['alpha'],fit_intercept = result.best_params_['fit_intercept'], solver = result.best_params_['solver'])\n",
        "model.fit(x_train,y_train)\n",
        "y_pred = model.predict(x_test)\n",
        "coef_ridge = model.coef_\n",
        "r2_ridge = r2_score(y_test,y_pred)\n",
        "rmse_ridge = np.sqrt(mean_absolute_error(y_test,y_pred))\n",
        "print(f'R^2:{r2_score(y_test,y_pred)}')\n",
        "print(f'coefficeints:\\n{coef_ridge}')\n",
        "print(f'RMSE:{rmse_ridge}')\n",
        "\n",
        "# r2_ridge_2 = r2_score(y_test,y_pred)\n",
        "# rmse_ridge_2 = np.sqrt(mean_absolute_error(y_test,y_pred))\n",
        "# print(f'R^2:{r2_score(y_test,y_pred)}')\n",
        "# print(f'coefficeints:\\n{coef_ridge}')\n",
        "# print(f'RMSE:{np.sqrt(mean_absolute_error(y_test,y_pred))}')\n",
        "\n"
      ]
    },
    {
      "cell_type": "code",
      "execution_count": null,
      "metadata": {
        "colab": {
          "background_save": true
        },
        "id": "Mt8DrBNs08xL",
        "outputId": "a763de1a-e03b-4906-ceca-b0713ededcbd"
      },
      "outputs": [
        {
          "name": "stdout",
          "output_type": "stream",
          "text": [
            "R^2:0.6107066664147088\n",
            "coefficeints:\n",
            "[ 0.59915912 -0.          0.          0.21563315  0.1210059  -0.\n",
            "  0.08456231  0.          0.05427041 -0.        ]\n",
            "RMSE:0.7102218716481385\n"
          ]
        }
      ],
      "source": [
        "#Elastic Net\n",
        "model = ElasticNet(alpha=0.1, l1_ratio=0.5)\n",
        "model.fit(x_train,y_train)\n",
        "y_pred = model.predict(x_test)\n",
        "coef_elas = model.coef_\n",
        "r2_elas = r2_score(y_test,y_pred)\n",
        "rmse_elas = np.sqrt(mean_absolute_error(y_test,y_pred))\n",
        "print(f'R^2:{r2_elas}')\n",
        "print(f'coefficeints:\\n{coef_elas}')\n",
        "print(f'RMSE:{rmse_elas}')\n"
      ]
    },
    {
      "cell_type": "code",
      "execution_count": null,
      "metadata": {
        "colab": {
          "background_save": true
        },
        "id": "l28LFv2U7Z3p",
        "outputId": "a38f3ee3-15f8-4efa-8eeb-a224af073f08"
      },
      "outputs": [
        {
          "data": {
            "text/plain": [
              "{'alpha': 1e-05, 'l1_ratio': 0.9, 'max_iter': 5}"
            ]
          },
          "execution_count": 51,
          "metadata": {},
          "output_type": "execute_result"
        }
      ],
      "source": [
        "from sklearn.model_selection import cross_val_score\n",
        "import warnings\n",
        "warnings.filterwarnings('ignore')\n",
        "\n",
        "parametersGrid = {\"max_iter\": [1, 5, 10],\n",
        "                  'alpha':np.arange(0.00001, 20, 0.1),\n",
        "                      # \"alpha\": [0.0001, 0.001, 0.01, 0.1, 1, 10, 100],\n",
        "                      \"l1_ratio\": np.arange(0.0, 1.0, 0.1)}\n",
        "\n",
        "grid = GridSearchCV(model, parametersGrid, scoring='r2', cv=10)\n",
        "grid.fit(x_train, y_train)\n",
        "grid.best_params_"
      ]
    },
    {
      "cell_type": "code",
      "execution_count": null,
      "metadata": {
        "colab": {
          "background_save": true
        },
        "id": "n-HaFKyo90hb",
        "outputId": "87cd3f60-6f53-46dc-f37e-b2500cacb315"
      },
      "outputs": [
        {
          "name": "stdout",
          "output_type": "stream",
          "text": [
            "R^2:0.6564868463603981\n",
            "coefficeints:\n",
            "[ 0.72257139 -0.03887566 -0.00769092  0.27411079  0.17007747 -0.01346643\n",
            "  0.14342978  0.01026752  0.12260306 -0.06621026]\n",
            "RMSE:0.6817578493322018\n"
          ]
        }
      ],
      "source": [
        "#Elastic Net\n",
        "model = ElasticNet(alpha=grid.best_params_['alpha'], l1_ratio=grid.best_params_['l1_ratio'])\n",
        "model.fit(x_train,y_train)\n",
        "y_pred = model.predict(x_test)\n",
        "coef_elas = model.coef_\n",
        "# r2_elas = r2_score(y_test,y_pred)\n",
        "# rmse_elas = np.sqrt(mean_absolute_error(y_test,y_pred))\n",
        "# print(f'R^2:{r2_elas}')\n",
        "# print(f'coefficeints:\\n{coef_elas}')\n",
        "# print(f'RMSE:{rmse_elas}')\n",
        "\n",
        "\n",
        "r2_elas_2 = r2_score(y_test,y_pred)\n",
        "rmse_elas_2 = np.sqrt(mean_absolute_error(y_test,y_pred))\n",
        "print(f'R^2:{r2_score(y_test,y_pred)}')\n",
        "print(f'coefficeints:\\n{coef_elas}')\n",
        "print(f'RMSE:{np.sqrt(mean_absolute_error(y_test,y_pred))}')"
      ]
    },
    {
      "cell_type": "code",
      "execution_count": null,
      "metadata": {
        "colab": {
          "background_save": true
        },
        "id": "Q5hTPUlTKSS0"
      },
      "outputs": [],
      "source": [
        "model_assessment = pd.DataFrame(columns=df.columns[:-1])\n",
        "model_assessment.loc['Lasso'] = coef\n",
        "model_assessment.loc['Ridge'] = coef_ridge\n",
        "model_assessment.loc['ElasticNet'] = coef_elas\n",
        "model_assessment['R^2'] = [r2_lasso,r2_ridge,r2_elas]\n",
        "model_assessment['RMSE'] = [rmse_lasso,rmse_ridge,rmse_elas]\n",
        "model_assessment = model_assessment.round(5)"
      ]
    },
    {
      "cell_type": "code",
      "execution_count": null,
      "metadata": {
        "colab": {
          "background_save": true
        },
        "id": "78mjn13wj9np",
        "outputId": "0e03d035-9439-4d19-b381-344f8aa8727e"
      },
      "outputs": [
        {
          "data": {
            "text/html": [
              "\n",
              "  <div id=\"df-820e3349-af83-4251-b019-279e287a3607\">\n",
              "    <div class=\"colab-df-container\">\n",
              "      <div>\n",
              "<style scoped>\n",
              "    .dataframe tbody tr th:only-of-type {\n",
              "        vertical-align: middle;\n",
              "    }\n",
              "\n",
              "    .dataframe tbody tr th {\n",
              "        vertical-align: top;\n",
              "    }\n",
              "\n",
              "    .dataframe thead th {\n",
              "        text-align: right;\n",
              "    }\n",
              "</style>\n",
              "<table border=\"1\" class=\"dataframe\">\n",
              "  <thead>\n",
              "    <tr style=\"text-align: right;\">\n",
              "      <th></th>\n",
              "      <th>Age</th>\n",
              "      <th>Diabetes</th>\n",
              "      <th>BloodPressureProblems</th>\n",
              "      <th>AnyTransplants</th>\n",
              "      <th>AnyChronicDiseases</th>\n",
              "      <th>Height</th>\n",
              "      <th>Weight</th>\n",
              "      <th>KnownAllergies</th>\n",
              "      <th>HistoryOfCancerInFamily</th>\n",
              "      <th>NumberOfMajorSurgeries</th>\n",
              "      <th>R^2</th>\n",
              "      <th>RMSE</th>\n",
              "    </tr>\n",
              "  </thead>\n",
              "  <tbody>\n",
              "    <tr>\n",
              "      <th>Lasso</th>\n",
              "      <td>0.69825</td>\n",
              "      <td>-0.03035</td>\n",
              "      <td>-0.00000</td>\n",
              "      <td>0.26542</td>\n",
              "      <td>0.16072</td>\n",
              "      <td>-0.00151</td>\n",
              "      <td>0.13253</td>\n",
              "      <td>0.00000</td>\n",
              "      <td>0.10899</td>\n",
              "      <td>-0.04595</td>\n",
              "      <td>0.65229</td>\n",
              "      <td>0.68522</td>\n",
              "    </tr>\n",
              "    <tr>\n",
              "      <th>Ridge</th>\n",
              "      <td>0.71504</td>\n",
              "      <td>-0.03792</td>\n",
              "      <td>-0.00683</td>\n",
              "      <td>0.27182</td>\n",
              "      <td>0.16912</td>\n",
              "      <td>-0.01333</td>\n",
              "      <td>0.14256</td>\n",
              "      <td>0.01025</td>\n",
              "      <td>0.12081</td>\n",
              "      <td>-0.06265</td>\n",
              "      <td>0.65644</td>\n",
              "      <td>0.68355</td>\n",
              "    </tr>\n",
              "    <tr>\n",
              "      <th>ElasticNet</th>\n",
              "      <td>0.72257</td>\n",
              "      <td>-0.03888</td>\n",
              "      <td>-0.00769</td>\n",
              "      <td>0.27411</td>\n",
              "      <td>0.17008</td>\n",
              "      <td>-0.01347</td>\n",
              "      <td>0.14343</td>\n",
              "      <td>0.01027</td>\n",
              "      <td>0.12260</td>\n",
              "      <td>-0.06621</td>\n",
              "      <td>0.61071</td>\n",
              "      <td>0.71022</td>\n",
              "    </tr>\n",
              "  </tbody>\n",
              "</table>\n",
              "</div>\n",
              "      <button class=\"colab-df-convert\" onclick=\"convertToInteractive('df-820e3349-af83-4251-b019-279e287a3607')\"\n",
              "              title=\"Convert this dataframe to an interactive table.\"\n",
              "              style=\"display:none;\">\n",
              "        \n",
              "  <svg xmlns=\"http://www.w3.org/2000/svg\" height=\"24px\"viewBox=\"0 0 24 24\"\n",
              "       width=\"24px\">\n",
              "    <path d=\"M0 0h24v24H0V0z\" fill=\"none\"/>\n",
              "    <path d=\"M18.56 5.44l.94 2.06.94-2.06 2.06-.94-2.06-.94-.94-2.06-.94 2.06-2.06.94zm-11 1L8.5 8.5l.94-2.06 2.06-.94-2.06-.94L8.5 2.5l-.94 2.06-2.06.94zm10 10l.94 2.06.94-2.06 2.06-.94-2.06-.94-.94-2.06-.94 2.06-2.06.94z\"/><path d=\"M17.41 7.96l-1.37-1.37c-.4-.4-.92-.59-1.43-.59-.52 0-1.04.2-1.43.59L10.3 9.45l-7.72 7.72c-.78.78-.78 2.05 0 2.83L4 21.41c.39.39.9.59 1.41.59.51 0 1.02-.2 1.41-.59l7.78-7.78 2.81-2.81c.8-.78.8-2.07 0-2.86zM5.41 20L4 18.59l7.72-7.72 1.47 1.35L5.41 20z\"/>\n",
              "  </svg>\n",
              "      </button>\n",
              "      \n",
              "  <style>\n",
              "    .colab-df-container {\n",
              "      display:flex;\n",
              "      flex-wrap:wrap;\n",
              "      gap: 12px;\n",
              "    }\n",
              "\n",
              "    .colab-df-convert {\n",
              "      background-color: #E8F0FE;\n",
              "      border: none;\n",
              "      border-radius: 50%;\n",
              "      cursor: pointer;\n",
              "      display: none;\n",
              "      fill: #1967D2;\n",
              "      height: 32px;\n",
              "      padding: 0 0 0 0;\n",
              "      width: 32px;\n",
              "    }\n",
              "\n",
              "    .colab-df-convert:hover {\n",
              "      background-color: #E2EBFA;\n",
              "      box-shadow: 0px 1px 2px rgba(60, 64, 67, 0.3), 0px 1px 3px 1px rgba(60, 64, 67, 0.15);\n",
              "      fill: #174EA6;\n",
              "    }\n",
              "\n",
              "    [theme=dark] .colab-df-convert {\n",
              "      background-color: #3B4455;\n",
              "      fill: #D2E3FC;\n",
              "    }\n",
              "\n",
              "    [theme=dark] .colab-df-convert:hover {\n",
              "      background-color: #434B5C;\n",
              "      box-shadow: 0px 1px 3px 1px rgba(0, 0, 0, 0.15);\n",
              "      filter: drop-shadow(0px 1px 2px rgba(0, 0, 0, 0.3));\n",
              "      fill: #FFFFFF;\n",
              "    }\n",
              "  </style>\n",
              "\n",
              "      <script>\n",
              "        const buttonEl =\n",
              "          document.querySelector('#df-820e3349-af83-4251-b019-279e287a3607 button.colab-df-convert');\n",
              "        buttonEl.style.display =\n",
              "          google.colab.kernel.accessAllowed ? 'block' : 'none';\n",
              "\n",
              "        async function convertToInteractive(key) {\n",
              "          const element = document.querySelector('#df-820e3349-af83-4251-b019-279e287a3607');\n",
              "          const dataTable =\n",
              "            await google.colab.kernel.invokeFunction('convertToInteractive',\n",
              "                                                     [key], {});\n",
              "          if (!dataTable) return;\n",
              "\n",
              "          const docLinkHtml = 'Like what you see? Visit the ' +\n",
              "            '<a target=\"_blank\" href=https://colab.research.google.com/notebooks/data_table.ipynb>data table notebook</a>'\n",
              "            + ' to learn more about interactive tables.';\n",
              "          element.innerHTML = '';\n",
              "          dataTable['output_type'] = 'display_data';\n",
              "          await google.colab.output.renderOutput(dataTable, element);\n",
              "          const docLink = document.createElement('div');\n",
              "          docLink.innerHTML = docLinkHtml;\n",
              "          element.appendChild(docLink);\n",
              "        }\n",
              "      </script>\n",
              "    </div>\n",
              "  </div>\n",
              "  "
            ],
            "text/plain": [
              "                Age  Diabetes  BloodPressureProblems  AnyTransplants  \\\n",
              "Lasso       0.69825  -0.03035               -0.00000         0.26542   \n",
              "Ridge       0.71504  -0.03792               -0.00683         0.27182   \n",
              "ElasticNet  0.72257  -0.03888               -0.00769         0.27411   \n",
              "\n",
              "            AnyChronicDiseases   Height   Weight  KnownAllergies  \\\n",
              "Lasso                  0.16072 -0.00151  0.13253         0.00000   \n",
              "Ridge                  0.16912 -0.01333  0.14256         0.01025   \n",
              "ElasticNet             0.17008 -0.01347  0.14343         0.01027   \n",
              "\n",
              "            HistoryOfCancerInFamily  NumberOfMajorSurgeries      R^2     RMSE  \n",
              "Lasso                       0.10899                -0.04595  0.65229  0.68522  \n",
              "Ridge                       0.12081                -0.06265  0.65644  0.68355  \n",
              "ElasticNet                  0.12260                -0.06621  0.61071  0.71022  "
            ]
          },
          "execution_count": 55,
          "metadata": {},
          "output_type": "execute_result"
        }
      ],
      "source": [
        "model_assessment"
      ]
    },
    {
      "cell_type": "code",
      "execution_count": null,
      "metadata": {
        "colab": {
          "background_save": true
        },
        "id": "B42O2t9PjCcZ"
      },
      "outputs": [],
      "source": [
        "model_assessment.to_csv('/content/drive/MyDrive/Data/model_assessment.csv')"
      ]
    },
    {
      "cell_type": "code",
      "execution_count": null,
      "metadata": {
        "colab": {
          "background_save": true
        },
        "id": "XbPMKwimlF9P",
        "outputId": "2a0bb2ee-7607-4ba7-cb94-7dea620a5ea0"
      },
      "outputs": [
        {
          "ename": "NameError",
          "evalue": "ignored",
          "output_type": "error",
          "traceback": [
            "\u001b[0;31m---------------------------------------------------------------------------\u001b[0m",
            "\u001b[0;31mNameError\u001b[0m                                 Traceback (most recent call last)",
            "\u001b[0;32m<ipython-input-57-3a3726f1b196>\u001b[0m in \u001b[0;36m<module>\u001b[0;34m\u001b[0m\n\u001b[1;32m      2\u001b[0m \u001b[0mmodel_assessment2\u001b[0m\u001b[0;34m[\u001b[0m\u001b[0;34m'R^2'\u001b[0m\u001b[0;34m]\u001b[0m \u001b[0;34m=\u001b[0m \u001b[0;34m[\u001b[0m\u001b[0mr2_lasso\u001b[0m\u001b[0;34m,\u001b[0m\u001b[0mr2_ridge\u001b[0m\u001b[0;34m,\u001b[0m\u001b[0mr2_elas\u001b[0m\u001b[0;34m]\u001b[0m\u001b[0;34m\u001b[0m\u001b[0;34m\u001b[0m\u001b[0m\n\u001b[1;32m      3\u001b[0m \u001b[0mmodel_assessment2\u001b[0m\u001b[0;34m[\u001b[0m\u001b[0;34m'RMSE'\u001b[0m\u001b[0;34m]\u001b[0m \u001b[0;34m=\u001b[0m \u001b[0;34m[\u001b[0m\u001b[0mrmse_lasso\u001b[0m\u001b[0;34m,\u001b[0m\u001b[0mrmse_ridge\u001b[0m\u001b[0;34m,\u001b[0m\u001b[0mrmse_elas\u001b[0m\u001b[0;34m]\u001b[0m\u001b[0;34m\u001b[0m\u001b[0;34m\u001b[0m\u001b[0m\n\u001b[0;32m----> 4\u001b[0;31m \u001b[0mmodel_assessment2\u001b[0m\u001b[0;34m[\u001b[0m\u001b[0;34m'updated R^2'\u001b[0m\u001b[0;34m]\u001b[0m \u001b[0;34m=\u001b[0m \u001b[0;34m[\u001b[0m\u001b[0mr2_lasso_2\u001b[0m\u001b[0;34m,\u001b[0m\u001b[0mr2_ridge_2\u001b[0m\u001b[0;34m,\u001b[0m\u001b[0mr2_elas_2\u001b[0m\u001b[0;34m]\u001b[0m\u001b[0;34m\u001b[0m\u001b[0;34m\u001b[0m\u001b[0m\n\u001b[0m\u001b[1;32m      5\u001b[0m \u001b[0mmodel_assessment2\u001b[0m\u001b[0;34m[\u001b[0m\u001b[0;34m'updated RMSE'\u001b[0m\u001b[0;34m]\u001b[0m \u001b[0;34m=\u001b[0m \u001b[0;34m[\u001b[0m\u001b[0mrmse_lasso_2\u001b[0m\u001b[0;34m,\u001b[0m\u001b[0mrmse_ridge_2\u001b[0m\u001b[0;34m,\u001b[0m\u001b[0mrmse_elas_2\u001b[0m\u001b[0;34m]\u001b[0m\u001b[0;34m\u001b[0m\u001b[0;34m\u001b[0m\u001b[0m\n\u001b[1;32m      6\u001b[0m \u001b[0mmodel_assessment2\u001b[0m \u001b[0;34m=\u001b[0m \u001b[0mmodel_assessment2\u001b[0m\u001b[0;34m.\u001b[0m\u001b[0mround\u001b[0m\u001b[0;34m(\u001b[0m\u001b[0;36m4\u001b[0m\u001b[0;34m)\u001b[0m\u001b[0;34m\u001b[0m\u001b[0;34m\u001b[0m\u001b[0m\n",
            "\u001b[0;31mNameError\u001b[0m: name 'r2_lasso_2' is not defined"
          ]
        }
      ],
      "source": [
        "model_assessment2 = pd.DataFrame(index = ['Lasso', 'Ridge','Elastic Net'])\n",
        "model_assessment2['R^2'] = [r2_lasso,r2_ridge,r2_elas]\n",
        "model_assessment2['RMSE'] = [rmse_lasso,rmse_ridge,rmse_elas]\n",
        "model_assessment2['updated R^2'] = [r2_lasso_2,r2_ridge_2,r2_elas_2]\n",
        "model_assessment2['updated RMSE'] = [rmse_lasso_2,rmse_ridge_2,rmse_elas_2]\n",
        "model_assessment2 = model_assessment2.round(4)\n",
        "model_assessment2"
      ]
    },
    {
      "cell_type": "code",
      "execution_count": null,
      "metadata": {
        "colab": {
          "background_save": true
        },
        "id": "UM762f7qCd1l"
      },
      "outputs": [],
      "source": [
        "plt.scatter(['Lasso', 'Ridge', 'Elastic Net'], model_assessment2['R^2'], color='blue',label='R^2')\n",
        "plt.scatter(['Lasso', 'Ridge', 'Elastic Net'], model_assessment2['updated R^2'], color='orange',label='updated R^2')\n",
        "plt.legend()\n",
        "plt.xticks(rotation=90)\n",
        "plt.show()"
      ]
    },
    {
      "cell_type": "markdown",
      "metadata": {
        "id": "IIMpExBjiL1y"
      },
      "source": [
        "# Part IV. Classification"
      ]
    },
    {
      "cell_type": "code",
      "execution_count": null,
      "metadata": {
        "colab": {
          "background_save": true
        },
        "id": "58qeApEJdUkJ"
      },
      "outputs": [],
      "source": [
        "from xgboost import XGBClassifier\n",
        "from sklearn.model_selection import GridSearchCV\n",
        "from sklearn.metrics import mean_squared_error, accuracy_score, r2_score, confusion_matrix, ConfusionMatrixDisplay, precision_recall_curve, auc, roc_curve"
      ]
    },
    {
      "cell_type": "code",
      "execution_count": null,
      "metadata": {
        "colab": {
          "background_save": true
        },
        "id": "W6t3a5bcdYvD"
      },
      "outputs": [],
      "source": [
        "s = StandardScaler()\n",
        "temp = df\n",
        "s.fit(temp[['Age', 'Height', 'Weight', 'PremiumPrice']])\n",
        "new = s.transform(temp[['Age', 'Height', 'Weight', 'PremiumPrice']]).T\n",
        "temp.Age = new[0]\n",
        "temp.Height = new[1]\n",
        "temp.Weight = new[2]\n",
        "temp.PremiumPrice = new[3]"
      ]
    },
    {
      "cell_type": "code",
      "execution_count": null,
      "metadata": {
        "colab": {
          "background_save": true
        },
        "id": "3zVIS8iFefhS"
      },
      "outputs": [],
      "source": [
        "X_col = df.columns.drop('Diabetes')\n",
        "X = df[X_col]\n",
        "x_train, x_test, y_train, y_test = train_test_split(X, df.Diabetes, train_size=0.8, random_state=15020304)"
      ]
    },
    {
      "cell_type": "code",
      "execution_count": null,
      "metadata": {
        "colab": {
          "background_save": true
        },
        "id": "TJpxTLsbeIQB"
      },
      "outputs": [],
      "source": [
        "## Kaiser Criterion: Consider all principal components with eigen values greater than 1.0\n",
        "pca = PCA()\n",
        "pca.fit(X)\n",
        "eigval = pca.explained_variance_\n",
        "n = 10\n",
        "x = np.arange(1,11)\n",
        "plt.bar(x, eigval, color='navy', alpha=0.6)\n",
        "plt.hlines(1.0,0,11, color='orange')\n",
        "plt.xlabel('Principal component')\n",
        "plt.ylabel('Eigenvalue')\n",
        "plt.xticks(ticks=x)\n",
        "plt.text(7,1.1,'Kaiser Criterion Line', color='orange')\n",
        "plt.show()\n",
        "print(f'Variance explained by the first 2 PC above is: {sum(pca.explained_variance_ratio_[:2])}')"
      ]
    },
    {
      "cell_type": "code",
      "execution_count": null,
      "metadata": {
        "colab": {
          "background_save": true
        },
        "id": "l-dCu0RzeM5S"
      },
      "outputs": [],
      "source": [
        "# Use Silhouette Score to find the optimal k for k-means\n",
        "opt_pca = PCA(n_components=2)\n",
        "newX = opt_pca.fit_transform(X)\n",
        "s = []\n",
        "for i in range(2,11):\n",
        "    kmeans = KMeans(n_clusters = i)\n",
        "    kmeans.fit(newX)\n",
        "    cID = kmeans.labels_\n",
        "    s.append(silhouette_score(newX, cID))\n",
        "\n",
        "plt.plot(np.arange(2,11), s)\n",
        "plt.xlabel('number of clusters for K-Means')\n",
        "plt.ylabel('mean silhouette score')\n",
        "plt.show()"
      ]
    },
    {
      "cell_type": "code",
      "execution_count": null,
      "metadata": {
        "colab": {
          "background_save": true
        },
        "id": "ztaPQifGeRi5"
      },
      "outputs": [],
      "source": [
        "# optimize k-means with clusters of 2\n",
        "opt_kmeans = KMeans(n_clusters=2)\n",
        "opt_kmeans.fit(newX)\n",
        "labels = opt_kmeans.labels_"
      ]
    },
    {
      "cell_type": "code",
      "execution_count": null,
      "metadata": {
        "colab": {
          "background_save": true
        },
        "id": "fdMZVJjUeUBy"
      },
      "outputs": [],
      "source": [
        "# plot premium by labels\n",
        "newX = newX.T\n",
        "sns.scatterplot(newX[0][np.where(labels==0)[0]],newX[1][np.where(labels==0)[0]])\n",
        "sns.scatterplot(newX[0][np.where(labels==1)[0]],newX[1][np.where(labels==1)[0]])\n",
        "\n",
        "plt.xlabel('principle component [1]')\n",
        "plt.ylabel('principle component [2]')\n",
        "plt.show()"
      ]
    },
    {
      "cell_type": "code",
      "execution_count": null,
      "metadata": {
        "colab": {
          "background_save": true
        },
        "id": "F2A1LuDLeVHN"
      },
      "outputs": [],
      "source": [
        "param_grid = {\n",
        "    \"max_depth\": [3, 4, 5, 7],\n",
        "    \"learning_rate\": [0.1, 0.01, 0.05],\n",
        "    \"gamma\": [0, 0.25, 1],\n",
        "    \"reg_lambda\": [0, 1, 10],\n",
        "    \"scale_pos_weight\": [1, 3, 5],\n",
        "    \"subsample\": [0.8],\n",
        "    \"colsample_bytree\": [0.5]\n",
        "}\n",
        "\n",
        "xgb = XGBClassifier(objective='binary:logistic')\n",
        "grid = GridSearchCV(xgb, param_grid, scoring='roc_auc')\n",
        "grid.fit(X, df.Diabetes)\n",
        "\n",
        "print(grid.best_score_)\n",
        "print(grid.best_params_)"
      ]
    },
    {
      "cell_type": "code",
      "execution_count": null,
      "metadata": {
        "colab": {
          "background_save": true
        },
        "id": "viq_5Hm6e2gc"
      },
      "outputs": [],
      "source": [
        "opt_xgb = XGBClassifier(objective='binary:logistic', **grid.best_params_)\n",
        "opt_xgb.fit(x_train, y_train)\n",
        "\n",
        "conf_matrix = confusion_matrix(y_test, opt_xgb.predict(x_test))\n",
        "dsip = ConfusionMatrixDisplay(confusion_matrix=conf_matrix, display_labels=[0,1])\n",
        "dsip.plot()\n",
        "plt.title('Confusion Matrix')\n",
        "plt.show()\n",
        "\n",
        "probs = opt_xgb.predict_proba(x_test)[:,1]\n",
        "fpr, tpr, thresholds = roc_curve(y_test, probs)\n",
        "random_classifier=np.linspace(0.0, 1.0, 100)\n",
        "plt.figure(figsize=(6, 4))\n",
        "plt.plot(fpr, tpr, color=\"purple\")\n",
        "plt.plot(random_classifier, random_classifier, 'r--')\n",
        "plt.xlabel(\"FPR\")\n",
        "plt.ylabel(\"TPR\")\n",
        "plt.title(\"ROC Curve\")\n",
        "plt.show()\n",
        "print(f'feature importance: {opt_xgb.feature_importances_} \\nArea under ROC curve: {auc(fpr, tpr)}')"
      ]
    }
  ],
  "metadata": {
    "colab": {
      "provenance": [],
      "collapsed_sections": [
        "JEAeg6pRZSPf"
      ]
    },
    "kernelspec": {
      "display_name": "Python 3",
      "name": "python3"
    },
    "language_info": {
      "name": "python"
    }
  },
  "nbformat": 4,
  "nbformat_minor": 0
}